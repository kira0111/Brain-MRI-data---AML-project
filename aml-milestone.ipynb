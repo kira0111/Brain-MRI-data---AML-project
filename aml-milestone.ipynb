{
 "cells": [
  {
   "cell_type": "code",
   "execution_count": 1,
   "id": "b8be6612",
   "metadata": {
    "_cell_guid": "b1076dfc-b9ad-4769-8c92-a6c4dae69d19",
    "_uuid": "8f2839f25d086af736a60e9eeb907d3b93b6e0e5",
    "execution": {
     "iopub.execute_input": "2024-10-29T00:22:00.148770Z",
     "iopub.status.busy": "2024-10-29T00:22:00.148399Z",
     "iopub.status.idle": "2024-10-29T00:22:09.041089Z",
     "shell.execute_reply": "2024-10-29T00:22:09.040248Z"
    },
    "papermill": {
     "duration": 8.912945,
     "end_time": "2024-10-29T00:22:09.043556",
     "exception": false,
     "start_time": "2024-10-29T00:22:00.130611",
     "status": "completed"
    },
    "tags": []
   },
   "outputs": [],
   "source": [
    "import numpy as np \n",
    "import pandas as pd \n",
    "import os\n",
    "import seaborn as sns \n",
    "import random\n",
    "from matplotlib import pyplot as plt\n",
    "import torch\n",
    "from torch.utils.data import DataLoader, Dataset\n",
    "from torchvision import models\n",
    "import torchvision.transforms as transforms\n",
    "import torch.optim as optim\n",
    "from skimage import io\n",
    "import torch.nn.functional as F\n",
    "import torch.nn as nn\n",
    "from torch.optim.lr_scheduler import CosineAnnealingLR"
   ]
  },
  {
   "cell_type": "code",
   "execution_count": 2,
   "id": "5605587b",
   "metadata": {
    "execution": {
     "iopub.execute_input": "2024-10-29T00:22:09.075085Z",
     "iopub.status.busy": "2024-10-29T00:22:09.074616Z",
     "iopub.status.idle": "2024-10-29T00:22:10.052255Z",
     "shell.execute_reply": "2024-10-29T00:22:10.051452Z"
    },
    "papermill": {
     "duration": 0.995591,
     "end_time": "2024-10-29T00:22:10.054454",
     "exception": false,
     "start_time": "2024-10-29T00:22:09.058863",
     "status": "completed"
    },
    "tags": []
   },
   "outputs": [],
   "source": [
    "data_dir=\"/kaggle/input/medical-scan-classification-dataset/Alzheimer/Alzheimer/MRI\"\n",
    "classes=[\"MildDemented\", \"ModerateDemented\", \"NonDemented\", \"VeryMildDemented\"]\n",
    "labels={\"id\":[], \"label\":[]}\n",
    "for classname in classes:\n",
    "    for image in os.listdir(data_dir+f\"/{classname}\"):\n",
    "        labels[\"id\"].append(data_dir+f\"/{classname}/{image}\")\n",
    "        labels[\"label\"].append(classname)\n",
    "labels=pd.DataFrame(labels)\n",
    "labels.to_csv(\"labels.csv\", index=False)"
   ]
  },
  {
   "cell_type": "code",
   "execution_count": 3,
   "id": "41024ba7",
   "metadata": {
    "execution": {
     "iopub.execute_input": "2024-10-29T00:22:10.085212Z",
     "iopub.status.busy": "2024-10-29T00:22:10.084876Z",
     "iopub.status.idle": "2024-10-29T00:22:10.173106Z",
     "shell.execute_reply": "2024-10-29T00:22:10.172177Z"
    },
    "papermill": {
     "duration": 0.105849,
     "end_time": "2024-10-29T00:22:10.175108",
     "exception": false,
     "start_time": "2024-10-29T00:22:10.069259",
     "status": "completed"
    },
    "tags": []
   },
   "outputs": [
    {
     "data": {
      "text/html": [
       "<div>\n",
       "<style scoped>\n",
       "    .dataframe tbody tr th:only-of-type {\n",
       "        vertical-align: middle;\n",
       "    }\n",
       "\n",
       "    .dataframe tbody tr th {\n",
       "        vertical-align: top;\n",
       "    }\n",
       "\n",
       "    .dataframe thead th {\n",
       "        text-align: right;\n",
       "    }\n",
       "</style>\n",
       "<table border=\"1\" class=\"dataframe\">\n",
       "  <thead>\n",
       "    <tr style=\"text-align: right;\">\n",
       "      <th></th>\n",
       "      <th>id</th>\n",
       "      <th>label</th>\n",
       "    </tr>\n",
       "  </thead>\n",
       "  <tbody>\n",
       "    <tr>\n",
       "      <th>0</th>\n",
       "      <td>/kaggle/input/medical-scan-classification-data...</td>\n",
       "      <td>MildDemented</td>\n",
       "    </tr>\n",
       "    <tr>\n",
       "      <th>1</th>\n",
       "      <td>/kaggle/input/medical-scan-classification-data...</td>\n",
       "      <td>MildDemented</td>\n",
       "    </tr>\n",
       "    <tr>\n",
       "      <th>2</th>\n",
       "      <td>/kaggle/input/medical-scan-classification-data...</td>\n",
       "      <td>MildDemented</td>\n",
       "    </tr>\n",
       "    <tr>\n",
       "      <th>3</th>\n",
       "      <td>/kaggle/input/medical-scan-classification-data...</td>\n",
       "      <td>MildDemented</td>\n",
       "    </tr>\n",
       "    <tr>\n",
       "      <th>4</th>\n",
       "      <td>/kaggle/input/medical-scan-classification-data...</td>\n",
       "      <td>MildDemented</td>\n",
       "    </tr>\n",
       "    <tr>\n",
       "      <th>...</th>\n",
       "      <td>...</td>\n",
       "      <td>...</td>\n",
       "    </tr>\n",
       "    <tr>\n",
       "      <th>35197</th>\n",
       "      <td>/kaggle/input/medical-scan-classification-data...</td>\n",
       "      <td>VeryMildDemented</td>\n",
       "    </tr>\n",
       "    <tr>\n",
       "      <th>35198</th>\n",
       "      <td>/kaggle/input/medical-scan-classification-data...</td>\n",
       "      <td>VeryMildDemented</td>\n",
       "    </tr>\n",
       "    <tr>\n",
       "      <th>35199</th>\n",
       "      <td>/kaggle/input/medical-scan-classification-data...</td>\n",
       "      <td>VeryMildDemented</td>\n",
       "    </tr>\n",
       "    <tr>\n",
       "      <th>35200</th>\n",
       "      <td>/kaggle/input/medical-scan-classification-data...</td>\n",
       "      <td>VeryMildDemented</td>\n",
       "    </tr>\n",
       "    <tr>\n",
       "      <th>35201</th>\n",
       "      <td>/kaggle/input/medical-scan-classification-data...</td>\n",
       "      <td>VeryMildDemented</td>\n",
       "    </tr>\n",
       "  </tbody>\n",
       "</table>\n",
       "<p>35202 rows × 2 columns</p>\n",
       "</div>"
      ],
      "text/plain": [
       "                                                      id             label\n",
       "0      /kaggle/input/medical-scan-classification-data...      MildDemented\n",
       "1      /kaggle/input/medical-scan-classification-data...      MildDemented\n",
       "2      /kaggle/input/medical-scan-classification-data...      MildDemented\n",
       "3      /kaggle/input/medical-scan-classification-data...      MildDemented\n",
       "4      /kaggle/input/medical-scan-classification-data...      MildDemented\n",
       "...                                                  ...               ...\n",
       "35197  /kaggle/input/medical-scan-classification-data...  VeryMildDemented\n",
       "35198  /kaggle/input/medical-scan-classification-data...  VeryMildDemented\n",
       "35199  /kaggle/input/medical-scan-classification-data...  VeryMildDemented\n",
       "35200  /kaggle/input/medical-scan-classification-data...  VeryMildDemented\n",
       "35201  /kaggle/input/medical-scan-classification-data...  VeryMildDemented\n",
       "\n",
       "[35202 rows x 2 columns]"
      ]
     },
     "execution_count": 3,
     "metadata": {},
     "output_type": "execute_result"
    }
   ],
   "source": [
    "labels=pd.read_csv(\"/kaggle/working/labels.csv\")\n",
    "labels"
   ]
  },
  {
   "cell_type": "code",
   "execution_count": 4,
   "id": "447173b4",
   "metadata": {
    "execution": {
     "iopub.execute_input": "2024-10-29T00:22:10.205851Z",
     "iopub.status.busy": "2024-10-29T00:22:10.205534Z",
     "iopub.status.idle": "2024-10-29T00:22:10.211060Z",
     "shell.execute_reply": "2024-10-29T00:22:10.210215Z"
    },
    "papermill": {
     "duration": 0.023055,
     "end_time": "2024-10-29T00:22:10.213068",
     "exception": false,
     "start_time": "2024-10-29T00:22:10.190013",
     "status": "completed"
    },
    "tags": []
   },
   "outputs": [
    {
     "data": {
      "text/plain": [
       "'/kaggle/input/medical-scan-classification-dataset/Alzheimer/Alzheimer/MRI/MildDemented/b063b988-374f-4665-a4b1-3a49cbe6c44f.jpg'"
      ]
     },
     "execution_count": 4,
     "metadata": {},
     "output_type": "execute_result"
    }
   ],
   "source": [
    "labels[\"id\"][0]"
   ]
  },
  {
   "cell_type": "code",
   "execution_count": 5,
   "id": "d9b8aff7",
   "metadata": {
    "execution": {
     "iopub.execute_input": "2024-10-29T00:22:10.244209Z",
     "iopub.status.busy": "2024-10-29T00:22:10.243720Z",
     "iopub.status.idle": "2024-10-29T00:22:10.272964Z",
     "shell.execute_reply": "2024-10-29T00:22:10.271975Z"
    },
    "papermill": {
     "duration": 0.047389,
     "end_time": "2024-10-29T00:22:10.275218",
     "exception": false,
     "start_time": "2024-10-29T00:22:10.227829",
     "status": "completed"
    },
    "tags": []
   },
   "outputs": [
    {
     "data": {
      "text/html": [
       "<div>\n",
       "<style scoped>\n",
       "    .dataframe tbody tr th:only-of-type {\n",
       "        vertical-align: middle;\n",
       "    }\n",
       "\n",
       "    .dataframe tbody tr th {\n",
       "        vertical-align: top;\n",
       "    }\n",
       "\n",
       "    .dataframe thead th {\n",
       "        text-align: right;\n",
       "    }\n",
       "</style>\n",
       "<table border=\"1\" class=\"dataframe\">\n",
       "  <thead>\n",
       "    <tr style=\"text-align: right;\">\n",
       "      <th></th>\n",
       "      <th>label</th>\n",
       "      <th>id</th>\n",
       "    </tr>\n",
       "  </thead>\n",
       "  <tbody>\n",
       "    <tr>\n",
       "      <th>2</th>\n",
       "      <td>NonDemented</td>\n",
       "      <td>12800</td>\n",
       "    </tr>\n",
       "    <tr>\n",
       "      <th>3</th>\n",
       "      <td>VeryMildDemented</td>\n",
       "      <td>11200</td>\n",
       "    </tr>\n",
       "    <tr>\n",
       "      <th>1</th>\n",
       "      <td>ModerateDemented</td>\n",
       "      <td>6528</td>\n",
       "    </tr>\n",
       "    <tr>\n",
       "      <th>0</th>\n",
       "      <td>MildDemented</td>\n",
       "      <td>4674</td>\n",
       "    </tr>\n",
       "  </tbody>\n",
       "</table>\n",
       "</div>"
      ],
      "text/plain": [
       "              label     id\n",
       "2       NonDemented  12800\n",
       "3  VeryMildDemented  11200\n",
       "1  ModerateDemented   6528\n",
       "0      MildDemented   4674"
      ]
     },
     "execution_count": 5,
     "metadata": {},
     "output_type": "execute_result"
    }
   ],
   "source": [
    "label_count=labels.groupby(by=\"label\", as_index=False).count().sort_values(by=\"id\", ascending=False)\n",
    "label_count"
   ]
  },
  {
   "cell_type": "code",
   "execution_count": 6,
   "id": "8c342f46",
   "metadata": {
    "execution": {
     "iopub.execute_input": "2024-10-29T00:22:10.308458Z",
     "iopub.status.busy": "2024-10-29T00:22:10.307896Z",
     "iopub.status.idle": "2024-10-29T00:22:10.584765Z",
     "shell.execute_reply": "2024-10-29T00:22:10.583927Z"
    },
    "papermill": {
     "duration": 0.295237,
     "end_time": "2024-10-29T00:22:10.586715",
     "exception": false,
     "start_time": "2024-10-29T00:22:10.291478",
     "status": "completed"
    },
    "tags": []
   },
   "outputs": [
    {
     "data": {
      "image/png": "[encoded data removed]",
      "text/plain": [
       "<Figure size 1000x850 with 1 Axes>"
      ]
     },
     "metadata": {},
     "output_type": "display_data"
    }
   ],
   "source": [
    "fig, ax = plt.subplots(figsize=(10, 8.5))\n",
    "ax=plt.barh(label_count[\"label\"], label_count[\"id\"])\n",
    "plt.title(\"Class distribution\")\n",
    "plt.xticks(fontsize = 10) \n",
    "plt.yticks(fontsize = 8) \n",
    "plt.show()"
   ]
  },
  {
   "cell_type": "code",
   "execution_count": 7,
   "id": "0f2002e1",
   "metadata": {
    "execution": {
     "iopub.execute_input": "2024-10-29T00:22:10.619711Z",
     "iopub.status.busy": "2024-10-29T00:22:10.619295Z",
     "iopub.status.idle": "2024-10-29T00:22:16.389428Z",
     "shell.execute_reply": "2024-10-29T00:22:16.388327Z"
    },
    "papermill": {
     "duration": 5.789399,
     "end_time": "2024-10-29T00:22:16.391955",
     "exception": false,
     "start_time": "2024-10-29T00:22:10.602556",
     "status": "completed"
    },
    "tags": []
   },
   "outputs": [],
   "source": [
    "random.seed=42\n",
    "train_indices=random.sample(list(range(len(labels))), int(len(labels)*0.8))\n",
    "test_indices=[i for i in list(range(len(labels))) if i not in train_indices]"
   ]
  },
  {
   "cell_type": "code",
   "execution_count": 8,
   "id": "ec8bb8ae",
   "metadata": {
    "execution": {
     "iopub.execute_input": "2024-10-29T00:22:16.424570Z",
     "iopub.status.busy": "2024-10-29T00:22:16.424210Z",
     "iopub.status.idle": "2024-10-29T00:22:16.443399Z",
     "shell.execute_reply": "2024-10-29T00:22:16.442402Z"
    },
    "papermill": {
     "duration": 0.038033,
     "end_time": "2024-10-29T00:22:16.445535",
     "exception": false,
     "start_time": "2024-10-29T00:22:16.407502",
     "status": "completed"
    },
    "tags": []
   },
   "outputs": [
    {
     "data": {
      "text/html": [
       "<div>\n",
       "<style scoped>\n",
       "    .dataframe tbody tr th:only-of-type {\n",
       "        vertical-align: middle;\n",
       "    }\n",
       "\n",
       "    .dataframe tbody tr th {\n",
       "        vertical-align: top;\n",
       "    }\n",
       "\n",
       "    .dataframe thead th {\n",
       "        text-align: right;\n",
       "    }\n",
       "</style>\n",
       "<table border=\"1\" class=\"dataframe\">\n",
       "  <thead>\n",
       "    <tr style=\"text-align: right;\">\n",
       "      <th></th>\n",
       "      <th>id</th>\n",
       "      <th>label</th>\n",
       "    </tr>\n",
       "  </thead>\n",
       "  <tbody>\n",
       "    <tr>\n",
       "      <th>0</th>\n",
       "      <td>/kaggle/input/medical-scan-classification-data...</td>\n",
       "      <td>MildDemented</td>\n",
       "    </tr>\n",
       "    <tr>\n",
       "      <th>1</th>\n",
       "      <td>/kaggle/input/medical-scan-classification-data...</td>\n",
       "      <td>MildDemented</td>\n",
       "    </tr>\n",
       "    <tr>\n",
       "      <th>2</th>\n",
       "      <td>/kaggle/input/medical-scan-classification-data...</td>\n",
       "      <td>MildDemented</td>\n",
       "    </tr>\n",
       "    <tr>\n",
       "      <th>3</th>\n",
       "      <td>/kaggle/input/medical-scan-classification-data...</td>\n",
       "      <td>MildDemented</td>\n",
       "    </tr>\n",
       "    <tr>\n",
       "      <th>4</th>\n",
       "      <td>/kaggle/input/medical-scan-classification-data...</td>\n",
       "      <td>MildDemented</td>\n",
       "    </tr>\n",
       "    <tr>\n",
       "      <th>...</th>\n",
       "      <td>...</td>\n",
       "      <td>...</td>\n",
       "    </tr>\n",
       "    <tr>\n",
       "      <th>7036</th>\n",
       "      <td>/kaggle/input/medical-scan-classification-data...</td>\n",
       "      <td>VeryMildDemented</td>\n",
       "    </tr>\n",
       "    <tr>\n",
       "      <th>7037</th>\n",
       "      <td>/kaggle/input/medical-scan-classification-data...</td>\n",
       "      <td>VeryMildDemented</td>\n",
       "    </tr>\n",
       "    <tr>\n",
       "      <th>7038</th>\n",
       "      <td>/kaggle/input/medical-scan-classification-data...</td>\n",
       "      <td>VeryMildDemented</td>\n",
       "    </tr>\n",
       "    <tr>\n",
       "      <th>7039</th>\n",
       "      <td>/kaggle/input/medical-scan-classification-data...</td>\n",
       "      <td>VeryMildDemented</td>\n",
       "    </tr>\n",
       "    <tr>\n",
       "      <th>7040</th>\n",
       "      <td>/kaggle/input/medical-scan-classification-data...</td>\n",
       "      <td>VeryMildDemented</td>\n",
       "    </tr>\n",
       "  </tbody>\n",
       "</table>\n",
       "<p>7041 rows × 2 columns</p>\n",
       "</div>"
      ],
      "text/plain": [
       "                                                     id             label\n",
       "0     /kaggle/input/medical-scan-classification-data...      MildDemented\n",
       "1     /kaggle/input/medical-scan-classification-data...      MildDemented\n",
       "2     /kaggle/input/medical-scan-classification-data...      MildDemented\n",
       "3     /kaggle/input/medical-scan-classification-data...      MildDemented\n",
       "4     /kaggle/input/medical-scan-classification-data...      MildDemented\n",
       "...                                                 ...               ...\n",
       "7036  /kaggle/input/medical-scan-classification-data...  VeryMildDemented\n",
       "7037  /kaggle/input/medical-scan-classification-data...  VeryMildDemented\n",
       "7038  /kaggle/input/medical-scan-classification-data...  VeryMildDemented\n",
       "7039  /kaggle/input/medical-scan-classification-data...  VeryMildDemented\n",
       "7040  /kaggle/input/medical-scan-classification-data...  VeryMildDemented\n",
       "\n",
       "[7041 rows x 2 columns]"
      ]
     },
     "execution_count": 8,
     "metadata": {},
     "output_type": "execute_result"
    }
   ],
   "source": [
    "test_labels=labels.drop(train_indices).reset_index(drop=True)\n",
    "test_labels"
   ]
  },
  {
   "cell_type": "code",
   "execution_count": 9,
   "id": "d890eaa4",
   "metadata": {
    "execution": {
     "iopub.execute_input": "2024-10-29T00:22:16.477907Z",
     "iopub.status.busy": "2024-10-29T00:22:16.477618Z",
     "iopub.status.idle": "2024-10-29T00:22:16.491902Z",
     "shell.execute_reply": "2024-10-29T00:22:16.491021Z"
    },
    "papermill": {
     "duration": 0.032752,
     "end_time": "2024-10-29T00:22:16.493960",
     "exception": false,
     "start_time": "2024-10-29T00:22:16.461208",
     "status": "completed"
    },
    "tags": []
   },
   "outputs": [
    {
     "data": {
      "text/html": [
       "<div>\n",
       "<style scoped>\n",
       "    .dataframe tbody tr th:only-of-type {\n",
       "        vertical-align: middle;\n",
       "    }\n",
       "\n",
       "    .dataframe tbody tr th {\n",
       "        vertical-align: top;\n",
       "    }\n",
       "\n",
       "    .dataframe thead th {\n",
       "        text-align: right;\n",
       "    }\n",
       "</style>\n",
       "<table border=\"1\" class=\"dataframe\">\n",
       "  <thead>\n",
       "    <tr style=\"text-align: right;\">\n",
       "      <th></th>\n",
       "      <th>id</th>\n",
       "      <th>label</th>\n",
       "    </tr>\n",
       "  </thead>\n",
       "  <tbody>\n",
       "    <tr>\n",
       "      <th>0</th>\n",
       "      <td>/kaggle/input/medical-scan-classification-data...</td>\n",
       "      <td>MildDemented</td>\n",
       "    </tr>\n",
       "    <tr>\n",
       "      <th>1</th>\n",
       "      <td>/kaggle/input/medical-scan-classification-data...</td>\n",
       "      <td>MildDemented</td>\n",
       "    </tr>\n",
       "    <tr>\n",
       "      <th>2</th>\n",
       "      <td>/kaggle/input/medical-scan-classification-data...</td>\n",
       "      <td>MildDemented</td>\n",
       "    </tr>\n",
       "    <tr>\n",
       "      <th>3</th>\n",
       "      <td>/kaggle/input/medical-scan-classification-data...</td>\n",
       "      <td>MildDemented</td>\n",
       "    </tr>\n",
       "    <tr>\n",
       "      <th>4</th>\n",
       "      <td>/kaggle/input/medical-scan-classification-data...</td>\n",
       "      <td>MildDemented</td>\n",
       "    </tr>\n",
       "    <tr>\n",
       "      <th>...</th>\n",
       "      <td>...</td>\n",
       "      <td>...</td>\n",
       "    </tr>\n",
       "    <tr>\n",
       "      <th>28156</th>\n",
       "      <td>/kaggle/input/medical-scan-classification-data...</td>\n",
       "      <td>VeryMildDemented</td>\n",
       "    </tr>\n",
       "    <tr>\n",
       "      <th>28157</th>\n",
       "      <td>/kaggle/input/medical-scan-classification-data...</td>\n",
       "      <td>VeryMildDemented</td>\n",
       "    </tr>\n",
       "    <tr>\n",
       "      <th>28158</th>\n",
       "      <td>/kaggle/input/medical-scan-classification-data...</td>\n",
       "      <td>VeryMildDemented</td>\n",
       "    </tr>\n",
       "    <tr>\n",
       "      <th>28159</th>\n",
       "      <td>/kaggle/input/medical-scan-classification-data...</td>\n",
       "      <td>VeryMildDemented</td>\n",
       "    </tr>\n",
       "    <tr>\n",
       "      <th>28160</th>\n",
       "      <td>/kaggle/input/medical-scan-classification-data...</td>\n",
       "      <td>VeryMildDemented</td>\n",
       "    </tr>\n",
       "  </tbody>\n",
       "</table>\n",
       "<p>28161 rows × 2 columns</p>\n",
       "</div>"
      ],
      "text/plain": [
       "                                                      id             label\n",
       "0      /kaggle/input/medical-scan-classification-data...      MildDemented\n",
       "1      /kaggle/input/medical-scan-classification-data...      MildDemented\n",
       "2      /kaggle/input/medical-scan-classification-data...      MildDemented\n",
       "3      /kaggle/input/medical-scan-classification-data...      MildDemented\n",
       "4      /kaggle/input/medical-scan-classification-data...      MildDemented\n",
       "...                                                  ...               ...\n",
       "28156  /kaggle/input/medical-scan-classification-data...  VeryMildDemented\n",
       "28157  /kaggle/input/medical-scan-classification-data...  VeryMildDemented\n",
       "28158  /kaggle/input/medical-scan-classification-data...  VeryMildDemented\n",
       "28159  /kaggle/input/medical-scan-classification-data...  VeryMildDemented\n",
       "28160  /kaggle/input/medical-scan-classification-data...  VeryMildDemented\n",
       "\n",
       "[28161 rows x 2 columns]"
      ]
     },
     "execution_count": 9,
     "metadata": {},
     "output_type": "execute_result"
    }
   ],
   "source": [
    "train_labels=labels.drop(test_indices).reset_index(drop=True)\n",
    "train_labels"
   ]
  },
  {
   "cell_type": "code",
   "execution_count": 10,
   "id": "8dc51236",
   "metadata": {
    "execution": {
     "iopub.execute_input": "2024-10-29T00:22:16.526386Z",
     "iopub.status.busy": "2024-10-29T00:22:16.526115Z",
     "iopub.status.idle": "2024-10-29T00:22:16.753639Z",
     "shell.execute_reply": "2024-10-29T00:22:16.752389Z"
    },
    "papermill": {
     "duration": 0.24724,
     "end_time": "2024-10-29T00:22:16.756785",
     "exception": false,
     "start_time": "2024-10-29T00:22:16.509545",
     "status": "completed"
    },
    "tags": []
   },
   "outputs": [],
   "source": [
    "train_labels.to_csv('train_labels.csv',index=False)\n",
    "test_labels.to_csv('test_labels.csv',index=False)"
   ]
  },
  {
   "cell_type": "code",
   "execution_count": 11,
   "id": "fbaaafee",
   "metadata": {
    "execution": {
     "iopub.execute_input": "2024-10-29T00:22:16.799637Z",
     "iopub.status.busy": "2024-10-29T00:22:16.799065Z",
     "iopub.status.idle": "2024-10-29T00:22:16.810599Z",
     "shell.execute_reply": "2024-10-29T00:22:16.809535Z"
    },
    "papermill": {
     "duration": 0.034481,
     "end_time": "2024-10-29T00:22:16.813338",
     "exception": false,
     "start_time": "2024-10-29T00:22:16.778857",
     "status": "completed"
    },
    "tags": []
   },
   "outputs": [
    {
     "name": "stdout",
     "output_type": "stream",
     "text": [
      "4\n"
     ]
    },
    {
     "data": {
      "text/plain": [
       "{'NonDemented': 0,\n",
       " 'VeryMildDemented': 1,\n",
       " 'ModerateDemented': 2,\n",
       " 'MildDemented': 3}"
      ]
     },
     "execution_count": 11,
     "metadata": {},
     "output_type": "execute_result"
    }
   ],
   "source": [
    "map_labels = dict()\n",
    "for index, row in label_count.reset_index(drop=True).iterrows():\n",
    "    map_labels[row[\"label\"]] = index\n",
    "    \n",
    "print(len(map_labels))\n",
    "map_labels"
   ]
  },
  {
   "cell_type": "code",
   "execution_count": 12,
   "id": "39e92e63",
   "metadata": {
    "execution": {
     "iopub.execute_input": "2024-10-29T00:22:16.853391Z",
     "iopub.status.busy": "2024-10-29T00:22:16.852675Z",
     "iopub.status.idle": "2024-10-29T00:22:16.865727Z",
     "shell.execute_reply": "2024-10-29T00:22:16.858936Z"
    },
    "papermill": {
     "duration": 0.035454,
     "end_time": "2024-10-29T00:22:16.870983",
     "exception": false,
     "start_time": "2024-10-29T00:22:16.835529",
     "status": "completed"
    },
    "tags": []
   },
   "outputs": [
    {
     "data": {
      "text/plain": [
       "{0: 'NonDemented',\n",
       " 1: 'VeryMildDemented',\n",
       " 2: 'ModerateDemented',\n",
       " 3: 'MildDemented'}"
      ]
     },
     "execution_count": 12,
     "metadata": {},
     "output_type": "execute_result"
    }
   ],
   "source": [
    "inverse_map=dict()\n",
    "for label in map_labels:\n",
    "    inverse_map[map_labels[label]]=label\n",
    "inverse_map"
   ]
  },
  {
   "cell_type": "markdown",
   "id": "d12a2f55",
   "metadata": {
    "papermill": {
     "duration": 0.016054,
     "end_time": "2024-10-29T00:22:16.903112",
     "exception": false,
     "start_time": "2024-10-29T00:22:16.887058",
     "status": "completed"
    },
    "tags": []
   },
   "source": [
    "# Dataset functions"
   ]
  },
  {
   "cell_type": "code",
   "execution_count": 13,
   "id": "30d23630",
   "metadata": {
    "execution": {
     "iopub.execute_input": "2024-10-29T00:22:16.937157Z",
     "iopub.status.busy": "2024-10-29T00:22:16.936845Z",
     "iopub.status.idle": "2024-10-29T00:22:16.942891Z",
     "shell.execute_reply": "2024-10-29T00:22:16.942020Z"
    },
    "papermill": {
     "duration": 0.025009,
     "end_time": "2024-10-29T00:22:16.944898",
     "exception": false,
     "start_time": "2024-10-29T00:22:16.919889",
     "status": "completed"
    },
    "tags": []
   },
   "outputs": [],
   "source": [
    "def grayscale_to_rgb(images):\n",
    "    return np.repeat(images[..., np.newaxis], 3, axis=-1)\n",
    "\n",
    "def grayscale_to_rgb_skimage(gray_image_array):\n",
    "    \"\"\"\n",
    "    Converts a grayscale image loaded with scikit-image to an RGB image by duplicating \n",
    "    the grayscale values across R, G, and B channels.\n",
    "    \n",
    "    Parameters:\n",
    "        gray_image_array (numpy.ndarray): A 2D array representing a grayscale image.\n",
    "        \n",
    "    Returns:\n",
    "        numpy.ndarray: A 3D array representing an RGB image.\n",
    "    \"\"\"\n",
    "    if gray_image_array.ndim != 2:\n",
    "        raise ValueError(\"Input array must be a 2D grayscale image.\")\n",
    "    \n",
    "    # Stack the grayscale channel across three channels (R, G, B)\n",
    "    rgb_image_array = np.stack((gray_image_array,)*3, axis=-1)\n",
    "    return rgb_image_array"
   ]
  },
  {
   "cell_type": "code",
   "execution_count": 14,
   "id": "1e646a11",
   "metadata": {
    "execution": {
     "iopub.execute_input": "2024-10-29T00:22:16.982509Z",
     "iopub.status.busy": "2024-10-29T00:22:16.982089Z",
     "iopub.status.idle": "2024-10-29T00:22:16.988979Z",
     "shell.execute_reply": "2024-10-29T00:22:16.988124Z"
    },
    "papermill": {
     "duration": 0.029853,
     "end_time": "2024-10-29T00:22:16.990984",
     "exception": false,
     "start_time": "2024-10-29T00:22:16.961131",
     "status": "completed"
    },
    "tags": []
   },
   "outputs": [],
   "source": [
    "class MRIDataset_train(Dataset):\n",
    "    def __init__(self, csv_file, transform=None):\n",
    "        self.labels = pd.read_csv(csv_file)\n",
    "        #self.root_dir = root_dir\n",
    "        self.transform = transform['train']\n",
    "        #self.labels=csv_file\n",
    "        \n",
    "    def __len__(self):\n",
    "        return self.labels.shape[0]\n",
    "    \n",
    "    def __getitem__(self, index):\n",
    "        #img_path = os.path.join(self.root_dir, self.labels.iloc[index, 0])\n",
    "        img_path=self.labels.iloc[index, 0]\n",
    "        image = io.imread(img_path)\n",
    "        y_label = torch.tensor(int(map_labels[self.labels.iloc[index, 1]]))\n",
    "\n",
    "\n",
    "        if self.transform:\n",
    "            image = self.transform(image)\n",
    "        return (image, y_label)"
   ]
  },
  {
   "cell_type": "code",
   "execution_count": 15,
   "id": "86756236",
   "metadata": {
    "execution": {
     "iopub.execute_input": "2024-10-29T00:22:17.031121Z",
     "iopub.status.busy": "2024-10-29T00:22:17.030311Z",
     "iopub.status.idle": "2024-10-29T00:22:17.038208Z",
     "shell.execute_reply": "2024-10-29T00:22:17.037357Z"
    },
    "papermill": {
     "duration": 0.027161,
     "end_time": "2024-10-29T00:22:17.040284",
     "exception": false,
     "start_time": "2024-10-29T00:22:17.013123",
     "status": "completed"
    },
    "tags": []
   },
   "outputs": [],
   "source": [
    "class MRIDataset_test(Dataset):\n",
    "    def __init__(self, csv_file, transform=None):\n",
    "        self.name_images = pd.read_csv(csv_file)['id'].values\n",
    "        #self.root_dir = root_dir\n",
    "        self.transform = transform['test']\n",
    "        self.labels=pd.read_csv(csv_file)\n",
    "        \n",
    "    def __len__(self):\n",
    "        return len(self.name_images)\n",
    "    \n",
    "    def __getitem__(self, index):\n",
    "        #img_path = os.path.join(self.root_dir, self.name_images[index])\n",
    "        img_path=self.labels.iloc[index, 0]\n",
    "        image = io.imread(img_path)\n",
    "     \n",
    "        if self.transform:\n",
    "            image = self.transform(image)\n",
    "\n",
    "        return image"
   ]
  },
  {
   "cell_type": "code",
   "execution_count": 16,
   "id": "8b2d7df6",
   "metadata": {
    "execution": {
     "iopub.execute_input": "2024-10-29T00:22:17.075437Z",
     "iopub.status.busy": "2024-10-29T00:22:17.074602Z",
     "iopub.status.idle": "2024-10-29T00:22:17.083377Z",
     "shell.execute_reply": "2024-10-29T00:22:17.082476Z"
    },
    "papermill": {
     "duration": 0.027925,
     "end_time": "2024-10-29T00:22:17.085354",
     "exception": false,
     "start_time": "2024-10-29T00:22:17.057429",
     "status": "completed"
    },
    "tags": []
   },
   "outputs": [],
   "source": [
    "transform ={'train': transforms.Compose([\n",
    "        transforms.ToPILImage(),\n",
    "        transforms.Grayscale(3),\n",
    "        transforms.Resize((224, 224)),\n",
    "        #transforms.RandomRotation(degrees=15),\n",
    "        #transforms.ColorJitter(),\n",
    "        #transforms.RandomHorizontalFlip(),\n",
    "        #transforms.CenterCrop(size=224), \n",
    "        transforms.ToTensor(),\n",
    "        transforms.Normalize([0.485, 0.456, 0.406],\n",
    "                             [0.229, 0.224, 0.225])]),\n",
    "    'test': transforms.Compose([transforms.ToPILImage(),\n",
    "                                    transforms.Grayscale(3),\n",
    "                                    transforms.Resize((224, 224)),\n",
    "                                    #transforms.CenterCrop(size=224),\n",
    "                                    transforms.ToTensor(),\n",
    "                                    transforms.Normalize([0.485, 0.456, 0.406],\n",
    "                                                          [0.229, 0.224, 0.225])])}\n"
   ]
  },
  {
   "cell_type": "code",
   "execution_count": 17,
   "id": "9216f570",
   "metadata": {
    "execution": {
     "iopub.execute_input": "2024-10-29T00:22:17.119765Z",
     "iopub.status.busy": "2024-10-29T00:22:17.119104Z",
     "iopub.status.idle": "2024-10-29T00:22:17.124002Z",
     "shell.execute_reply": "2024-10-29T00:22:17.123135Z"
    },
    "papermill": {
     "duration": 0.024654,
     "end_time": "2024-10-29T00:22:17.126286",
     "exception": false,
     "start_time": "2024-10-29T00:22:17.101632",
     "status": "completed"
    },
    "tags": []
   },
   "outputs": [],
   "source": [
    "num_classes = 4\n",
    "learning_rate = 1e-3\n",
    "batch_size = 128\n",
    "num_epochs = 15\n",
    "lr_ratio=0.005"
   ]
  },
  {
   "cell_type": "code",
   "execution_count": 18,
   "id": "c0b747b2",
   "metadata": {
    "execution": {
     "iopub.execute_input": "2024-10-29T00:22:17.167764Z",
     "iopub.status.busy": "2024-10-29T00:22:17.167075Z",
     "iopub.status.idle": "2024-10-29T00:22:17.308696Z",
     "shell.execute_reply": "2024-10-29T00:22:17.307492Z"
    },
    "papermill": {
     "duration": 0.163552,
     "end_time": "2024-10-29T00:22:17.311153",
     "exception": false,
     "start_time": "2024-10-29T00:22:17.147601",
     "status": "completed"
    },
    "tags": []
   },
   "outputs": [
    {
     "name": "stdout",
     "output_type": "stream",
     "text": [
      "Train set length:  22528\n",
      "Validation set length:  5633\n",
      "Test set length:  7041\n"
     ]
    }
   ],
   "source": [
    "dataset = MRIDataset_train('/kaggle/working/train_labels.csv', transform)\n",
    "train_set_size = int(len(dataset) * 0.8)\n",
    "print(\"Train set length: \", train_set_size)\n",
    "valid_set_size = len(dataset) - train_set_size\n",
    "print(\"Validation set length: \", valid_set_size)\n",
    "train_set, valid_set = torch.utils.data.random_split(dataset, [train_set_size, valid_set_size])\n",
    "train_loader = DataLoader(dataset=train_set, batch_size=batch_size, shuffle=True)\n",
    "valid_loader = DataLoader(dataset=valid_set, batch_size=batch_size, shuffle=True)\n",
    "\n",
    "test_data = MRIDataset_test('/kaggle/working/test_labels.csv', transform=transform)\n",
    "print(\"Test set length: \",len(test_data))\n",
    "test_loader = DataLoader(test_data, batch_size=batch_size)"
   ]
  },
  {
   "cell_type": "markdown",
   "id": "aac2516f",
   "metadata": {
    "papermill": {
     "duration": 0.015811,
     "end_time": "2024-10-29T00:22:17.344079",
     "exception": false,
     "start_time": "2024-10-29T00:22:17.328268",
     "status": "completed"
    },
    "tags": []
   },
   "source": [
    "## Functions for training"
   ]
  },
  {
   "cell_type": "code",
   "execution_count": 19,
   "id": "4175c10a",
   "metadata": {
    "execution": {
     "iopub.execute_input": "2024-10-29T00:22:17.377186Z",
     "iopub.status.busy": "2024-10-29T00:22:17.376862Z",
     "iopub.status.idle": "2024-10-29T00:22:17.474354Z",
     "shell.execute_reply": "2024-10-29T00:22:17.473299Z"
    },
    "papermill": {
     "duration": 0.117011,
     "end_time": "2024-10-29T00:22:17.476992",
     "exception": false,
     "start_time": "2024-10-29T00:22:17.359981",
     "status": "completed"
    },
    "tags": []
   },
   "outputs": [
    {
     "name": "stdout",
     "output_type": "stream",
     "text": [
      "Device\n",
      "cuda\n"
     ]
    }
   ],
   "source": [
    "device = torch.device(\"cuda\" if torch.cuda.is_available() else \"cpu\")\n",
    "print(\"Device\")\n",
    "print(device)"
   ]
  },
  {
   "cell_type": "code",
   "execution_count": 20,
   "id": "8ae19e0f",
   "metadata": {
    "execution": {
     "iopub.execute_input": "2024-10-29T00:22:17.516363Z",
     "iopub.status.busy": "2024-10-29T00:22:17.516031Z",
     "iopub.status.idle": "2024-10-29T00:22:17.521627Z",
     "shell.execute_reply": "2024-10-29T00:22:17.520729Z"
    },
    "papermill": {
     "duration": 0.024769,
     "end_time": "2024-10-29T00:22:17.523524",
     "exception": false,
     "start_time": "2024-10-29T00:22:17.498755",
     "status": "completed"
    },
    "tags": []
   },
   "outputs": [],
   "source": [
    "# save checkpoint\n",
    "def save_checkpoint(state, filename=\"my_checkpoint.pth.tar\"):\n",
    "    torch.save(state, filename)\n",
    "\n",
    "# load checkpint\n",
    "def load_checkpoint(checkpoint, model, optimizer):\n",
    "    print(\"Loading checkpoint\")\n",
    "    model.load_state_dict(checkpoint[\"state_dict\"])\n",
    "    optimizer.load_state_dict(checkpoint[\"optimizer\"])\n",
    "    scheduler = checkpoint['scheduler']"
   ]
  },
  {
   "cell_type": "code",
   "execution_count": 21,
   "id": "99643140",
   "metadata": {
    "execution": {
     "iopub.execute_input": "2024-10-29T00:22:17.557850Z",
     "iopub.status.busy": "2024-10-29T00:22:17.557112Z",
     "iopub.status.idle": "2024-10-29T00:22:17.573318Z",
     "shell.execute_reply": "2024-10-29T00:22:17.572459Z"
    },
    "papermill": {
     "duration": 0.036033,
     "end_time": "2024-10-29T00:22:17.575545",
     "exception": false,
     "start_time": "2024-10-29T00:22:17.539512",
     "status": "completed"
    },
    "tags": []
   },
   "outputs": [],
   "source": [
    "def plot_results(training_accuracy_list, training_loss_list, validation_accuracy_list, validation_loss_list):\n",
    "    epochs = len(training_accuracy_list)\n",
    "    x = np.arange(1, epochs + 1)\n",
    "\n",
    "    training_accuracy_list = [item.cpu().numpy() if isinstance(item, torch.Tensor) else item for item in training_accuracy_list]\n",
    "    training_loss_list = [item.cpu().numpy() if isinstance(item, torch.Tensor) else item for item in training_loss_list]\n",
    "    validation_accuracy_list = [item.cpu().numpy() if isinstance(item, torch.Tensor) else item for item in validation_accuracy_list]\n",
    "    best_loss_list = [item.cpu().numpy() if isinstance(item, torch.Tensor) else item for item in validation_loss_list]\n",
    "    \n",
    "    fig, axes = plt.subplots(1, 2, figsize=(12, 5))\n",
    "    axes[0].plot(x, training_accuracy_list, label='Training Accuracy', color='blue')\n",
    "    axes[1].plot(x, training_loss_list, label='Training Loss', color='orange')\n",
    "    axes[0].plot(x, validation_accuracy_list, label='Validation Accuracy', color='green')\n",
    "    axes[1].plot(x, best_loss_list, label='Validation Loss', color='red')\n",
    "\n",
    "    fig.suptitle('Model Evaluation Metrics')\n",
    "    axes[0].set_xlabel('Epochs')\n",
    "    axes[0].legend()\n",
    "    axes[0].grid(True)\n",
    "    axes[1].set_xlabel('Epochs')\n",
    "    axes[1].legend()\n",
    "    axes[1].grid(True)\n",
    "    plt.show()"
   ]
  },
  {
   "cell_type": "code",
   "execution_count": 22,
   "id": "452fe356",
   "metadata": {
    "execution": {
     "iopub.execute_input": "2024-10-29T00:22:17.612705Z",
     "iopub.status.busy": "2024-10-29T00:22:17.612382Z",
     "iopub.status.idle": "2024-10-29T00:22:17.624299Z",
     "shell.execute_reply": "2024-10-29T00:22:17.623484Z"
    },
    "papermill": {
     "duration": 0.031256,
     "end_time": "2024-10-29T00:22:17.626164",
     "exception": false,
     "start_time": "2024-10-29T00:22:17.594908",
     "status": "completed"
    },
    "tags": []
   },
   "outputs": [],
   "source": [
    "def traindata(device, model, epochs, optimizer, scheduler, loss_function, train_loader, valid_loader, filename):\n",
    "    # Early stopping\n",
    "    best_loss = 100\n",
    "    patience = 5\n",
    "    trigger_times = 0\n",
    "\n",
    "    # Lists to store data for plotting\n",
    "    training_accuracy_list = []\n",
    "    training_loss_list = []\n",
    "    best_loss_list = []\n",
    "    validation_accuracy_list = []\n",
    "    validation_loss_list = []\n",
    "\n",
    "    for epoch in range(1, epochs+1):\n",
    "        model.train()\n",
    "        correct = 0\n",
    "        loss_total = 0\n",
    "        for data in train_loader:\n",
    "            input = data[0].to(device)\n",
    "            label = data[1].to(device)\n",
    "\n",
    "            optimizer.zero_grad()\n",
    "\n",
    "            output = model(input)\n",
    "            _, predicted = output.max(1)\n",
    "            loss = loss_function(output, label)\n",
    "            loss_total += loss.item()\n",
    "            correct+= (predicted == label).sum()\n",
    "            loss.backward()\n",
    "            optimizer.step()\n",
    "            scheduler.step()\n",
    "\n",
    "        training_accuracy = correct/len(train_loader.sampler)\n",
    "        training_loss = loss_total/len(train_loader)\n",
    "\n",
    "        print('{}. epoch'.format(epoch))\n",
    "        \n",
    "\n",
    "         # Early stopping\n",
    "        current_loss, validation_accuracy = validation(model, device, valid_loader, loss_function)\n",
    "        print('Training accuracy: {} Training loss: {} \\nValidation accuracy: {} Validation loss: {}'.format(training_accuracy, training_loss, validation_accuracy, current_loss))\n",
    "\n",
    "        # Append values to lists for plotting\n",
    "        training_accuracy_list.append(training_accuracy)\n",
    "        training_loss_list.append(training_loss)\n",
    "        validation_accuracy_list.append(validation_accuracy)\n",
    "        validation_loss_list.append(current_loss)\n",
    "        best_loss_list.append(best_loss)\n",
    "\n",
    "        if current_loss > best_loss:\n",
    "            trigger_times += 1\n",
    "\n",
    "            if trigger_times >= patience:\n",
    "                print('Early stopping! Start to test process.')\n",
    "                break\n",
    "        else:\n",
    "            trigger_times = 0\n",
    "            save_checkpoint(checkpoint, filename)\n",
    "            best_loss = current_loss\n",
    "\n",
    "    # Plot the results\n",
    "    plot_results(training_accuracy_list, training_loss_list, validation_accuracy_list, validation_loss_list)\n",
    "\n",
    "    return model"
   ]
  },
  {
   "cell_type": "code",
   "execution_count": 23,
   "id": "9cd6cd1f",
   "metadata": {
    "execution": {
     "iopub.execute_input": "2024-10-29T00:22:17.660715Z",
     "iopub.status.busy": "2024-10-29T00:22:17.660394Z",
     "iopub.status.idle": "2024-10-29T00:22:17.667021Z",
     "shell.execute_reply": "2024-10-29T00:22:17.666096Z"
    },
    "papermill": {
     "duration": 0.026376,
     "end_time": "2024-10-29T00:22:17.669024",
     "exception": false,
     "start_time": "2024-10-29T00:22:17.642648",
     "status": "completed"
    },
    "tags": []
   },
   "outputs": [],
   "source": [
    "def validation(model, device, valid_loader, loss_function):\n",
    "\n",
    "    model.eval()\n",
    "    loss_total = 0\n",
    "    correct = 0\n",
    "    \n",
    "    with torch.no_grad():\n",
    "        for data in valid_loader:\n",
    "            input = data[0].to(device)\n",
    "            label = data[1].to(device)\n",
    "            output = model(input)\n",
    "            _, predicted = output.max(1)\n",
    "            loss = loss_function(output, label)\n",
    "            loss_total += loss.item()\n",
    "            correct+= (predicted == label).sum()\n",
    "        validation_accuracy = correct/len(valid_loader.sampler)\n",
    "    return loss_total / len(valid_loader), validation_accuracy"
   ]
  },
  {
   "cell_type": "code",
   "execution_count": 24,
   "id": "434fe501",
   "metadata": {
    "execution": {
     "iopub.execute_input": "2024-10-29T00:22:17.703386Z",
     "iopub.status.busy": "2024-10-29T00:22:17.703079Z",
     "iopub.status.idle": "2024-10-29T00:22:17.709360Z",
     "shell.execute_reply": "2024-10-29T00:22:17.708472Z"
    },
    "papermill": {
     "duration": 0.02599,
     "end_time": "2024-10-29T00:22:17.711386",
     "exception": false,
     "start_time": "2024-10-29T00:22:17.685396",
     "status": "completed"
    },
    "tags": []
   },
   "outputs": [],
   "source": [
    "def test(device, model, test_loader, loss_function):\n",
    "    model.eval()\n",
    "    predictions = pd.DataFrame()\n",
    "    with torch.no_grad():\n",
    "        for data in test_loader:\n",
    "            input = data.to(device)\n",
    "            output = model(input)\n",
    "            m = nn.Softmax(dim=1)\n",
    "            res = m(output)\n",
    "            predictions = pd.concat([predictions, pd.DataFrame(torch.Tensor.cpu(res).numpy(), columns = list(map_labels.keys()))], ignore_index=True)\n",
    "        return (predictions)"
   ]
  },
  {
   "cell_type": "markdown",
   "id": "4424d09d",
   "metadata": {
    "papermill": {
     "duration": 0.015905,
     "end_time": "2024-10-29T00:22:17.743791",
     "exception": false,
     "start_time": "2024-10-29T00:22:17.727886",
     "status": "completed"
    },
    "tags": []
   },
   "source": [
    "# ResNet50"
   ]
  },
  {
   "cell_type": "code",
   "execution_count": 25,
   "id": "3215f157",
   "metadata": {
    "execution": {
     "iopub.execute_input": "2024-10-29T00:22:17.777929Z",
     "iopub.status.busy": "2024-10-29T00:22:17.777578Z",
     "iopub.status.idle": "2024-10-29T00:22:20.144280Z",
     "shell.execute_reply": "2024-10-29T00:22:20.143462Z"
    },
    "papermill": {
     "duration": 2.386093,
     "end_time": "2024-10-29T00:22:20.146578",
     "exception": false,
     "start_time": "2024-10-29T00:22:17.760485",
     "status": "completed"
    },
    "tags": []
   },
   "outputs": [
    {
     "name": "stderr",
     "output_type": "stream",
     "text": [
      "/opt/conda/lib/python3.10/site-packages/torchvision/models/_utils.py:208: UserWarning: The parameter 'pretrained' is deprecated since 0.13 and may be removed in the future, please use 'weights' instead.\n",
      "  warnings.warn(\n",
      "/opt/conda/lib/python3.10/site-packages/torchvision/models/_utils.py:223: UserWarning: Arguments other than a weight enum or `None` for 'weights' are deprecated since 0.13 and may be removed in the future. The current behavior is equivalent to passing `weights=ResNet50_Weights.IMAGENET1K_V1`. You can also use `weights=ResNet50_Weights.DEFAULT` to get the most up-to-date weights.\n",
      "  warnings.warn(msg)\n",
      "Downloading: \"https://download.pytorch.org/models/resnet50-0676ba61.pth\" to /root/.cache/torch/hub/checkpoints/resnet50-0676ba61.pth\n",
      "100%|██████████| 97.8M/97.8M [00:01<00:00, 75.5MB/s]\n"
     ]
    }
   ],
   "source": [
    "model_resnet = models.resnet50(pretrained=True)\n",
    "\n",
    "for param in model_resnet.parameters():\n",
    "    param.requires_grad = False\n",
    "    \n",
    "model_resnet.fc = nn.Linear(2048, num_classes) \n",
    "model_resnet = model_resnet.to(device=device)"
   ]
  },
  {
   "cell_type": "code",
   "execution_count": 26,
   "id": "81c3c934",
   "metadata": {
    "execution": {
     "iopub.execute_input": "2024-10-29T00:22:20.183937Z",
     "iopub.status.busy": "2024-10-29T00:22:20.183166Z",
     "iopub.status.idle": "2024-10-29T00:22:20.191804Z",
     "shell.execute_reply": "2024-10-29T00:22:20.190904Z"
    },
    "papermill": {
     "duration": 0.029455,
     "end_time": "2024-10-29T00:22:20.193857",
     "exception": false,
     "start_time": "2024-10-29T00:22:20.164402",
     "status": "completed"
    },
    "tags": []
   },
   "outputs": [],
   "source": [
    "criterion = nn.CrossEntropyLoss()\n",
    "optimizer = optim.Adam(model_resnet.parameters(), lr=learning_rate)\n",
    "scheduler = CosineAnnealingLR(optimizer, T_max=num_epochs, eta_min=learning_rate * lr_ratio)\n",
    "checkpoint = {\"state_dict\": model_resnet.state_dict(), \"optimizer\": optimizer.state_dict(), \"scheduler\": scheduler}"
   ]
  },
  {
   "cell_type": "code",
   "execution_count": 27,
   "id": "27b57299",
   "metadata": {
    "execution": {
     "iopub.execute_input": "2024-10-29T00:22:20.230443Z",
     "iopub.status.busy": "2024-10-29T00:22:20.229758Z",
     "iopub.status.idle": "2024-10-29T01:16:41.478295Z",
     "shell.execute_reply": "2024-10-29T01:16:41.477252Z"
    },
    "papermill": {
     "duration": 3261.269248,
     "end_time": "2024-10-29T01:16:41.480564",
     "exception": false,
     "start_time": "2024-10-29T00:22:20.211316",
     "status": "completed"
    },
    "tags": []
   },
   "outputs": [
    {
     "name": "stdout",
     "output_type": "stream",
     "text": [
      "1. epoch\n",
      "Training accuracy: 0.5456765294075012 Training loss: 1.0453980727629228 \n",
      "Validation accuracy: 0.6087342500686646 Validation loss: 0.9275258183479309\n",
      "2. epoch\n",
      "Training accuracy: 0.6245561242103577 Training loss: 0.8770346939563751 \n",
      "Validation accuracy: 0.6426416039466858 Validation loss: 0.832113966345787\n",
      "3. epoch\n",
      "Training accuracy: 0.6455966234207153 Training loss: 0.8239810727536678 \n",
      "Validation accuracy: 0.6513403654098511 Validation loss: 0.8046871993276808\n",
      "4. epoch\n",
      "Training accuracy: 0.6556285619735718 Training loss: 0.7971719439056787 \n",
      "Validation accuracy: 0.6586188673973083 Validation loss: 0.789956165684594\n",
      "5. epoch\n",
      "Training accuracy: 0.6664595603942871 Training loss: 0.7742254432629455 \n",
      "Validation accuracy: 0.6660749316215515 Validation loss: 0.7853395925627814\n",
      "6. epoch\n",
      "Training accuracy: 0.6641069054603577 Training loss: 0.7654837119308385 \n",
      "Validation accuracy: 0.6571986675262451 Validation loss: 0.7793238931232028\n",
      "7. epoch\n",
      "Training accuracy: 0.6667258739471436 Training loss: 0.7595812532712113 \n",
      "Validation accuracy: 0.6738860607147217 Validation loss: 0.7555870135625203\n",
      "8. epoch\n",
      "Training accuracy: 0.6726740002632141 Training loss: 0.7488438185643066 \n",
      "Validation accuracy: 0.663589596748352 Validation loss: 0.7645096090104845\n",
      "9. epoch\n",
      "Training accuracy: 0.6732510924339294 Training loss: 0.7396289895881306 \n",
      "Validation accuracy: 0.6202734112739563 Validation loss: 0.8659189330206977\n",
      "10. epoch\n",
      "Training accuracy: 0.6776900291442871 Training loss: 0.7358074252578345 \n",
      "Validation accuracy: 0.6777915954589844 Validation loss: 0.7560164133707682\n",
      "11. epoch\n",
      "Training accuracy: 0.685546875 Training loss: 0.7190573760731653 \n",
      "Validation accuracy: 0.682584822177887 Validation loss: 0.7112180693282022\n",
      "12. epoch\n",
      "Training accuracy: 0.6878551244735718 Training loss: 0.7138514931906353 \n",
      "Validation accuracy: 0.6751287579536438 Validation loss: 0.7221561372280121\n",
      "13. epoch\n",
      "Training accuracy: 0.681773841381073 Training loss: 0.7174017730761658 \n",
      "Validation accuracy: 0.6863128542900085 Validation loss: 0.7168719596332974\n",
      "14. epoch\n",
      "Training accuracy: 0.6887872815132141 Training loss: 0.7029739899391477 \n",
      "Validation accuracy: 0.6596840023994446 Validation loss: 0.7641377064916822\n",
      "15. epoch\n",
      "Training accuracy: 0.693004310131073 Training loss: 0.7008219506930221 \n",
      "Validation accuracy: 0.6760163307189941 Validation loss: 0.7456351571612888\n"
     ]
    },
    {
     "data": {
      "image/png": "[encoded data removed]",
      "text/plain": [
       "<Figure size 1200x500 with 2 Axes>"
      ]
     },
     "metadata": {},
     "output_type": "display_data"
    }
   ],
   "source": [
    "model = traindata(device, model_resnet, num_epochs, optimizer, scheduler, criterion, train_loader, valid_loader, \"resnet_checkpoint.pth.tar\")"
   ]
  },
  {
   "cell_type": "code",
   "execution_count": 28,
   "id": "b5d0352f",
   "metadata": {
    "execution": {
     "iopub.execute_input": "2024-10-29T01:16:41.523948Z",
     "iopub.status.busy": "2024-10-29T01:16:41.523625Z",
     "iopub.status.idle": "2024-10-29T01:16:41.640499Z",
     "shell.execute_reply": "2024-10-29T01:16:41.639471Z"
    },
    "papermill": {
     "duration": 0.141084,
     "end_time": "2024-10-29T01:16:41.642789",
     "exception": false,
     "start_time": "2024-10-29T01:16:41.501705",
     "status": "completed"
    },
    "tags": []
   },
   "outputs": [
    {
     "name": "stdout",
     "output_type": "stream",
     "text": [
      "Loading checkpoint\n"
     ]
    },
    {
     "name": "stderr",
     "output_type": "stream",
     "text": [
      "/tmp/ipykernel_24/4100813766.py:1: FutureWarning: You are using `torch.load` with `weights_only=False` (the current default value), which uses the default pickle module implicitly. It is possible to construct malicious pickle data which will execute arbitrary code during unpickling (See https://github.com/pytorch/pytorch/blob/main/SECURITY.md#untrusted-models for more details). In a future release, the default value for `weights_only` will be flipped to `True`. This limits the functions that could be executed during unpickling. Arbitrary objects will no longer be allowed to be loaded via this mode unless they are explicitly allowlisted by the user via `torch.serialization.add_safe_globals`. We recommend you start setting `weights_only=True` for any use case where you don't have full control of the loaded file. Please open an issue on GitHub for any issues related to this experimental feature.\n",
      "  load_checkpoint(torch.load(\"resnet_checkpoint.pth.tar\"), model_resnet, optimizer)\n"
     ]
    }
   ],
   "source": [
    "load_checkpoint(torch.load(\"resnet_checkpoint.pth.tar\"), model_resnet, optimizer)"
   ]
  },
  {
   "cell_type": "code",
   "execution_count": 29,
   "id": "49fa5f11",
   "metadata": {
    "execution": {
     "iopub.execute_input": "2024-10-29T01:16:41.686645Z",
     "iopub.status.busy": "2024-10-29T01:16:41.686297Z",
     "iopub.status.idle": "2024-10-29T01:18:05.101632Z",
     "shell.execute_reply": "2024-10-29T01:18:05.099538Z"
    },
    "papermill": {
     "duration": 83.462145,
     "end_time": "2024-10-29T01:18:05.126470",
     "exception": false,
     "start_time": "2024-10-29T01:16:41.664325",
     "status": "completed"
    },
    "tags": []
   },
   "outputs": [
    {
     "data": {
      "text/html": [
       "<div>\n",
       "<style scoped>\n",
       "    .dataframe tbody tr th:only-of-type {\n",
       "        vertical-align: middle;\n",
       "    }\n",
       "\n",
       "    .dataframe tbody tr th {\n",
       "        vertical-align: top;\n",
       "    }\n",
       "\n",
       "    .dataframe thead th {\n",
       "        text-align: right;\n",
       "    }\n",
       "</style>\n",
       "<table border=\"1\" class=\"dataframe\">\n",
       "  <thead>\n",
       "    <tr style=\"text-align: right;\">\n",
       "      <th></th>\n",
       "      <th>NonDemented</th>\n",
       "      <th>VeryMildDemented</th>\n",
       "      <th>ModerateDemented</th>\n",
       "      <th>MildDemented</th>\n",
       "      <th>label</th>\n",
       "    </tr>\n",
       "  </thead>\n",
       "  <tbody>\n",
       "    <tr>\n",
       "      <th>0</th>\n",
       "      <td>0.267435</td>\n",
       "      <td>0.375638</td>\n",
       "      <td>0.049969</td>\n",
       "      <td>0.306958</td>\n",
       "      <td>MildDemented</td>\n",
       "    </tr>\n",
       "    <tr>\n",
       "      <th>1</th>\n",
       "      <td>0.267233</td>\n",
       "      <td>0.322682</td>\n",
       "      <td>0.109269</td>\n",
       "      <td>0.300816</td>\n",
       "      <td>MildDemented</td>\n",
       "    </tr>\n",
       "    <tr>\n",
       "      <th>2</th>\n",
       "      <td>0.236013</td>\n",
       "      <td>0.465062</td>\n",
       "      <td>0.113979</td>\n",
       "      <td>0.184946</td>\n",
       "      <td>MildDemented</td>\n",
       "    </tr>\n",
       "    <tr>\n",
       "      <th>3</th>\n",
       "      <td>0.256577</td>\n",
       "      <td>0.108409</td>\n",
       "      <td>0.006749</td>\n",
       "      <td>0.628266</td>\n",
       "      <td>MildDemented</td>\n",
       "    </tr>\n",
       "    <tr>\n",
       "      <th>4</th>\n",
       "      <td>0.078587</td>\n",
       "      <td>0.406770</td>\n",
       "      <td>0.000743</td>\n",
       "      <td>0.513901</td>\n",
       "      <td>MildDemented</td>\n",
       "    </tr>\n",
       "    <tr>\n",
       "      <th>...</th>\n",
       "      <td>...</td>\n",
       "      <td>...</td>\n",
       "      <td>...</td>\n",
       "      <td>...</td>\n",
       "      <td>...</td>\n",
       "    </tr>\n",
       "    <tr>\n",
       "      <th>7036</th>\n",
       "      <td>0.177614</td>\n",
       "      <td>0.699728</td>\n",
       "      <td>0.001379</td>\n",
       "      <td>0.121278</td>\n",
       "      <td>VeryMildDemented</td>\n",
       "    </tr>\n",
       "    <tr>\n",
       "      <th>7037</th>\n",
       "      <td>0.324120</td>\n",
       "      <td>0.643464</td>\n",
       "      <td>0.000308</td>\n",
       "      <td>0.032109</td>\n",
       "      <td>VeryMildDemented</td>\n",
       "    </tr>\n",
       "    <tr>\n",
       "      <th>7038</th>\n",
       "      <td>0.341557</td>\n",
       "      <td>0.466079</td>\n",
       "      <td>0.066191</td>\n",
       "      <td>0.126173</td>\n",
       "      <td>VeryMildDemented</td>\n",
       "    </tr>\n",
       "    <tr>\n",
       "      <th>7039</th>\n",
       "      <td>0.042641</td>\n",
       "      <td>0.561209</td>\n",
       "      <td>0.052683</td>\n",
       "      <td>0.343467</td>\n",
       "      <td>VeryMildDemented</td>\n",
       "    </tr>\n",
       "    <tr>\n",
       "      <th>7040</th>\n",
       "      <td>0.246346</td>\n",
       "      <td>0.698147</td>\n",
       "      <td>0.005285</td>\n",
       "      <td>0.050221</td>\n",
       "      <td>VeryMildDemented</td>\n",
       "    </tr>\n",
       "  </tbody>\n",
       "</table>\n",
       "<p>7041 rows × 5 columns</p>\n",
       "</div>"
      ],
      "text/plain": [
       "      NonDemented  VeryMildDemented  ModerateDemented  MildDemented  \\\n",
       "0        0.267435          0.375638          0.049969      0.306958   \n",
       "1        0.267233          0.322682          0.109269      0.300816   \n",
       "2        0.236013          0.465062          0.113979      0.184946   \n",
       "3        0.256577          0.108409          0.006749      0.628266   \n",
       "4        0.078587          0.406770          0.000743      0.513901   \n",
       "...           ...               ...               ...           ...   \n",
       "7036     0.177614          0.699728          0.001379      0.121278   \n",
       "7037     0.324120          0.643464          0.000308      0.032109   \n",
       "7038     0.341557          0.466079          0.066191      0.126173   \n",
       "7039     0.042641          0.561209          0.052683      0.343467   \n",
       "7040     0.246346          0.698147          0.005285      0.050221   \n",
       "\n",
       "                 label  \n",
       "0         MildDemented  \n",
       "1         MildDemented  \n",
       "2         MildDemented  \n",
       "3         MildDemented  \n",
       "4         MildDemented  \n",
       "...                ...  \n",
       "7036  VeryMildDemented  \n",
       "7037  VeryMildDemented  \n",
       "7038  VeryMildDemented  \n",
       "7039  VeryMildDemented  \n",
       "7040  VeryMildDemented  \n",
       "\n",
       "[7041 rows x 5 columns]"
      ]
     },
     "execution_count": 29,
     "metadata": {},
     "output_type": "execute_result"
    }
   ],
   "source": [
    "df = test(device, model, test_loader, criterion)\n",
    "df=pd.concat([df, test_labels[\"label\"]], axis=1)\n",
    "df.to_csv('resnet50.csv', index=False)\n",
    "df"
   ]
  },
  {
   "cell_type": "markdown",
   "id": "e1d09bd5",
   "metadata": {
    "papermill": {
     "duration": 0.021225,
     "end_time": "2024-10-29T01:18:05.168919",
     "exception": false,
     "start_time": "2024-10-29T01:18:05.147694",
     "status": "completed"
    },
    "tags": []
   },
   "source": [
    "# VGG16"
   ]
  },
  {
   "cell_type": "code",
   "execution_count": 30,
   "id": "0bfca441",
   "metadata": {
    "execution": {
     "iopub.execute_input": "2024-10-29T01:18:05.212656Z",
     "iopub.status.busy": "2024-10-29T01:18:05.212273Z",
     "iopub.status.idle": "2024-10-29T01:18:09.343433Z",
     "shell.execute_reply": "2024-10-29T01:18:09.342541Z"
    },
    "papermill": {
     "duration": 4.15573,
     "end_time": "2024-10-29T01:18:09.345741",
     "exception": false,
     "start_time": "2024-10-29T01:18:05.190011",
     "status": "completed"
    },
    "tags": []
   },
   "outputs": [
    {
     "name": "stderr",
     "output_type": "stream",
     "text": [
      "/opt/conda/lib/python3.10/site-packages/torchvision/models/_utils.py:208: UserWarning: The parameter 'pretrained' is deprecated since 0.13 and may be removed in the future, please use 'weights' instead.\n",
      "  warnings.warn(\n",
      "/opt/conda/lib/python3.10/site-packages/torchvision/models/_utils.py:223: UserWarning: Arguments other than a weight enum or `None` for 'weights' are deprecated since 0.13 and may be removed in the future. The current behavior is equivalent to passing `weights=VGG16_Weights.IMAGENET1K_V1`. You can also use `weights=VGG16_Weights.DEFAULT` to get the most up-to-date weights.\n",
      "  warnings.warn(msg)\n",
      "Downloading: \"https://download.pytorch.org/models/vgg16-397923af.pth\" to /root/.cache/torch/hub/checkpoints/vgg16-397923af.pth\n",
      "100%|██████████| 528M/528M [00:02<00:00, 225MB/s]\n"
     ]
    }
   ],
   "source": [
    "# Load the VGG16 model\n",
    "model_vgg = models.vgg16(pretrained=True)\n",
    "\n",
    "# Freeze the parameters\n",
    "for param in model_vgg.parameters():\n",
    "    param.requires_grad = False\n",
    "\n",
    "# Replace the last layer to match the number of classes\n",
    "model_vgg.classifier[6] = nn.Linear(4096, num_classes) # number of classes\n",
    "model_vgg = model_vgg.to(device=device)"
   ]
  },
  {
   "cell_type": "code",
   "execution_count": 31,
   "id": "dbf392b0",
   "metadata": {
    "execution": {
     "iopub.execute_input": "2024-10-29T01:18:09.394487Z",
     "iopub.status.busy": "2024-10-29T01:18:09.394143Z",
     "iopub.status.idle": "2024-10-29T01:18:09.400940Z",
     "shell.execute_reply": "2024-10-29T01:18:09.400048Z"
    },
    "papermill": {
     "duration": 0.033166,
     "end_time": "2024-10-29T01:18:09.402937",
     "exception": false,
     "start_time": "2024-10-29T01:18:09.369771",
     "status": "completed"
    },
    "tags": []
   },
   "outputs": [],
   "source": [
    "criterion = nn.CrossEntropyLoss()\n",
    "optimizer = optim.Adam(model_vgg.parameters(), lr=learning_rate)\n",
    "scheduler = CosineAnnealingLR(optimizer, T_max=num_epochs, eta_min=learning_rate * lr_ratio)\n",
    "checkpoint = {\"state_dict\": model_vgg.state_dict(), \"optimizer\": optimizer.state_dict(), \"scheduler\": scheduler}"
   ]
  },
  {
   "cell_type": "code",
   "execution_count": 32,
   "id": "106fea55",
   "metadata": {
    "execution": {
     "iopub.execute_input": "2024-10-29T01:18:09.450576Z",
     "iopub.status.busy": "2024-10-29T01:18:09.450278Z",
     "iopub.status.idle": "2024-10-29T02:22:16.108912Z",
     "shell.execute_reply": "2024-10-29T02:22:16.108077Z"
    },
    "papermill": {
     "duration": 3846.685004,
     "end_time": "2024-10-29T02:22:16.111008",
     "exception": false,
     "start_time": "2024-10-29T01:18:09.426004",
     "status": "completed"
    },
    "tags": []
   },
   "outputs": [
    {
     "name": "stdout",
     "output_type": "stream",
     "text": [
      "1. epoch\n",
      "Training accuracy: 0.46493253111839294 Training loss: 1.177272412587296 \n",
      "Validation accuracy: 0.5510385632514954 Validation loss: 0.9999812960624694\n",
      "2. epoch\n",
      "Training accuracy: 0.5358220934867859 Training loss: 1.0278520919382572 \n",
      "Validation accuracy: 0.5957749485969543 Validation loss: 0.9465260783831279\n",
      "3. epoch\n",
      "Training accuracy: 0.5435458421707153 Training loss: 1.00399905747988 \n",
      "Validation accuracy: 0.6106870174407959 Validation loss: 0.9038202404975891\n",
      "4. epoch\n",
      "Training accuracy: 0.5539329051971436 Training loss: 0.9878189729695971 \n",
      "Validation accuracy: 0.6229363083839417 Validation loss: 0.885967222849528\n",
      "5. epoch\n",
      "Training accuracy: 0.5553977489471436 Training loss: 0.9733968871560964 \n",
      "Validation accuracy: 0.6211610436439514 Validation loss: 0.8655947354104784\n",
      "6. epoch\n",
      "Training accuracy: 0.5632102489471436 Training loss: 0.9644773924215273 \n",
      "Validation accuracy: 0.6403337717056274 Validation loss: 0.8454788181516859\n",
      "7. epoch\n",
      "Training accuracy: 0.5644087791442871 Training loss: 0.9673734286969359 \n",
      "Validation accuracy: 0.6392686367034912 Validation loss: 0.8416551152865092\n",
      "8. epoch\n",
      "Training accuracy: 0.5630326867103577 Training loss: 0.9675698304040865 \n",
      "Validation accuracy: 0.5963075160980225 Validation loss: 0.8829858594470554\n",
      "9. epoch\n",
      "Training accuracy: 0.5652077794075012 Training loss: 0.9621710905974562 \n",
      "Validation accuracy: 0.6421090364456177 Validation loss: 0.8580460137791104\n",
      "10. epoch\n",
      "Training accuracy: 0.5685813426971436 Training loss: 0.9569666500795971 \n",
      "Validation accuracy: 0.6346529722213745 Validation loss: 0.8391914923985799\n",
      "11. epoch\n",
      "Training accuracy: 0.5636541247367859 Training loss: 0.9577590626749125 \n",
      "Validation accuracy: 0.6405112743377686 Validation loss: 0.8502010371949937\n",
      "12. epoch\n",
      "Training accuracy: 0.5696023106575012 Training loss: 0.9555768170817331 \n",
      "Validation accuracy: 0.6133499145507812 Validation loss: 0.861575898859236\n",
      "13. epoch\n",
      "Training accuracy: 0.5753284692764282 Training loss: 0.9496480229903351 \n",
      "Validation accuracy: 0.6270193457603455 Validation loss: 0.8371023911568853\n",
      "14. epoch\n",
      "Training accuracy: 0.5690696239471436 Training loss: 0.9515192021023143 \n",
      "Validation accuracy: 0.6286171078681946 Validation loss: 0.8581464939647251\n",
      "15. epoch\n",
      "Training accuracy: 0.5668057799339294 Training loss: 0.9582220305773345 \n",
      "Validation accuracy: 0.6131724119186401 Validation loss: 0.8395745542314318\n"
     ]
    },
    {
     "data": {
      "image/png": "[encoded data removed]",
      "text/plain": [
       "<Figure size 1200x500 with 2 Axes>"
      ]
     },
     "metadata": {},
     "output_type": "display_data"
    }
   ],
   "source": [
    "model2 = traindata(device, model_vgg, num_epochs, optimizer, scheduler, criterion, train_loader, valid_loader, \"vgg_checkpoint.pth.tar\")"
   ]
  },
  {
   "cell_type": "code",
   "execution_count": 33,
   "id": "9dc3a6a5",
   "metadata": {
    "execution": {
     "iopub.execute_input": "2024-10-29T02:22:16.167288Z",
     "iopub.status.busy": "2024-10-29T02:22:16.166728Z",
     "iopub.status.idle": "2024-10-29T02:22:16.594590Z",
     "shell.execute_reply": "2024-10-29T02:22:16.593603Z"
    },
    "papermill": {
     "duration": 0.458166,
     "end_time": "2024-10-29T02:22:16.596785",
     "exception": false,
     "start_time": "2024-10-29T02:22:16.138619",
     "status": "completed"
    },
    "tags": []
   },
   "outputs": [
    {
     "name": "stderr",
     "output_type": "stream",
     "text": [
      "/tmp/ipykernel_24/1595752799.py:1: FutureWarning: You are using `torch.load` with `weights_only=False` (the current default value), which uses the default pickle module implicitly. It is possible to construct malicious pickle data which will execute arbitrary code during unpickling (See https://github.com/pytorch/pytorch/blob/main/SECURITY.md#untrusted-models for more details). In a future release, the default value for `weights_only` will be flipped to `True`. This limits the functions that could be executed during unpickling. Arbitrary objects will no longer be allowed to be loaded via this mode unless they are explicitly allowlisted by the user via `torch.serialization.add_safe_globals`. We recommend you start setting `weights_only=True` for any use case where you don't have full control of the loaded file. Please open an issue on GitHub for any issues related to this experimental feature.\n",
      "  load_checkpoint(torch.load(\"vgg_checkpoint.pth.tar\"), model_vgg, optimizer)\n"
     ]
    },
    {
     "name": "stdout",
     "output_type": "stream",
     "text": [
      "Loading checkpoint\n"
     ]
    }
   ],
   "source": [
    "load_checkpoint(torch.load(\"vgg_checkpoint.pth.tar\"), model_vgg, optimizer)"
   ]
  },
  {
   "cell_type": "code",
   "execution_count": 34,
   "id": "c75dd085",
   "metadata": {
    "execution": {
     "iopub.execute_input": "2024-10-29T02:22:16.653628Z",
     "iopub.status.busy": "2024-10-29T02:22:16.652948Z",
     "iopub.status.idle": "2024-10-29T02:23:20.693406Z",
     "shell.execute_reply": "2024-10-29T02:23:20.692400Z"
    },
    "papermill": {
     "duration": 64.098905,
     "end_time": "2024-10-29T02:23:20.723197",
     "exception": false,
     "start_time": "2024-10-29T02:22:16.624292",
     "status": "completed"
    },
    "tags": []
   },
   "outputs": [
    {
     "data": {
      "text/html": [
       "<div>\n",
       "<style scoped>\n",
       "    .dataframe tbody tr th:only-of-type {\n",
       "        vertical-align: middle;\n",
       "    }\n",
       "\n",
       "    .dataframe tbody tr th {\n",
       "        vertical-align: top;\n",
       "    }\n",
       "\n",
       "    .dataframe thead th {\n",
       "        text-align: right;\n",
       "    }\n",
       "</style>\n",
       "<table border=\"1\" class=\"dataframe\">\n",
       "  <thead>\n",
       "    <tr style=\"text-align: right;\">\n",
       "      <th></th>\n",
       "      <th>NonDemented</th>\n",
       "      <th>VeryMildDemented</th>\n",
       "      <th>ModerateDemented</th>\n",
       "      <th>MildDemented</th>\n",
       "      <th>label</th>\n",
       "    </tr>\n",
       "  </thead>\n",
       "  <tbody>\n",
       "    <tr>\n",
       "      <th>0</th>\n",
       "      <td>0.343552</td>\n",
       "      <td>0.306447</td>\n",
       "      <td>0.028076</td>\n",
       "      <td>0.321926</td>\n",
       "      <td>MildDemented</td>\n",
       "    </tr>\n",
       "    <tr>\n",
       "      <th>1</th>\n",
       "      <td>0.348842</td>\n",
       "      <td>0.502676</td>\n",
       "      <td>0.020596</td>\n",
       "      <td>0.127886</td>\n",
       "      <td>MildDemented</td>\n",
       "    </tr>\n",
       "    <tr>\n",
       "      <th>2</th>\n",
       "      <td>0.144685</td>\n",
       "      <td>0.252740</td>\n",
       "      <td>0.403975</td>\n",
       "      <td>0.198600</td>\n",
       "      <td>MildDemented</td>\n",
       "    </tr>\n",
       "    <tr>\n",
       "      <th>3</th>\n",
       "      <td>0.111231</td>\n",
       "      <td>0.204908</td>\n",
       "      <td>0.343646</td>\n",
       "      <td>0.340216</td>\n",
       "      <td>MildDemented</td>\n",
       "    </tr>\n",
       "    <tr>\n",
       "      <th>4</th>\n",
       "      <td>0.333349</td>\n",
       "      <td>0.329330</td>\n",
       "      <td>0.058023</td>\n",
       "      <td>0.279298</td>\n",
       "      <td>MildDemented</td>\n",
       "    </tr>\n",
       "    <tr>\n",
       "      <th>...</th>\n",
       "      <td>...</td>\n",
       "      <td>...</td>\n",
       "      <td>...</td>\n",
       "      <td>...</td>\n",
       "      <td>...</td>\n",
       "    </tr>\n",
       "    <tr>\n",
       "      <th>7036</th>\n",
       "      <td>0.474828</td>\n",
       "      <td>0.329486</td>\n",
       "      <td>0.036615</td>\n",
       "      <td>0.159071</td>\n",
       "      <td>VeryMildDemented</td>\n",
       "    </tr>\n",
       "    <tr>\n",
       "      <th>7037</th>\n",
       "      <td>0.465036</td>\n",
       "      <td>0.431833</td>\n",
       "      <td>0.020938</td>\n",
       "      <td>0.082193</td>\n",
       "      <td>VeryMildDemented</td>\n",
       "    </tr>\n",
       "    <tr>\n",
       "      <th>7038</th>\n",
       "      <td>0.251493</td>\n",
       "      <td>0.250295</td>\n",
       "      <td>0.194374</td>\n",
       "      <td>0.303838</td>\n",
       "      <td>VeryMildDemented</td>\n",
       "    </tr>\n",
       "    <tr>\n",
       "      <th>7039</th>\n",
       "      <td>0.216980</td>\n",
       "      <td>0.438623</td>\n",
       "      <td>0.118731</td>\n",
       "      <td>0.225667</td>\n",
       "      <td>VeryMildDemented</td>\n",
       "    </tr>\n",
       "    <tr>\n",
       "      <th>7040</th>\n",
       "      <td>0.485667</td>\n",
       "      <td>0.359055</td>\n",
       "      <td>0.073264</td>\n",
       "      <td>0.082014</td>\n",
       "      <td>VeryMildDemented</td>\n",
       "    </tr>\n",
       "  </tbody>\n",
       "</table>\n",
       "<p>7041 rows × 5 columns</p>\n",
       "</div>"
      ],
      "text/plain": [
       "      NonDemented  VeryMildDemented  ModerateDemented  MildDemented  \\\n",
       "0        0.343552          0.306447          0.028076      0.321926   \n",
       "1        0.348842          0.502676          0.020596      0.127886   \n",
       "2        0.144685          0.252740          0.403975      0.198600   \n",
       "3        0.111231          0.204908          0.343646      0.340216   \n",
       "4        0.333349          0.329330          0.058023      0.279298   \n",
       "...           ...               ...               ...           ...   \n",
       "7036     0.474828          0.329486          0.036615      0.159071   \n",
       "7037     0.465036          0.431833          0.020938      0.082193   \n",
       "7038     0.251493          0.250295          0.194374      0.303838   \n",
       "7039     0.216980          0.438623          0.118731      0.225667   \n",
       "7040     0.485667          0.359055          0.073264      0.082014   \n",
       "\n",
       "                 label  \n",
       "0         MildDemented  \n",
       "1         MildDemented  \n",
       "2         MildDemented  \n",
       "3         MildDemented  \n",
       "4         MildDemented  \n",
       "...                ...  \n",
       "7036  VeryMildDemented  \n",
       "7037  VeryMildDemented  \n",
       "7038  VeryMildDemented  \n",
       "7039  VeryMildDemented  \n",
       "7040  VeryMildDemented  \n",
       "\n",
       "[7041 rows x 5 columns]"
      ]
     },
     "execution_count": 34,
     "metadata": {},
     "output_type": "execute_result"
    }
   ],
   "source": [
    "df = test(device, model2, test_loader, criterion)\n",
    "df=pd.concat([df, test_labels[\"label\"]], axis=1)\n",
    "df.to_csv('vgg16.csv', index=False)\n",
    "df"
   ]
  },
  {
   "cell_type": "markdown",
   "id": "857f3092",
   "metadata": {
    "papermill": {
     "duration": 0.02679,
     "end_time": "2024-10-29T02:23:20.776939",
     "exception": false,
     "start_time": "2024-10-29T02:23:20.750149",
     "status": "completed"
    },
    "tags": []
   },
   "source": [
    "# EfficientNet"
   ]
  },
  {
   "cell_type": "code",
   "execution_count": 35,
   "id": "e58c78f5",
   "metadata": {
    "execution": {
     "iopub.execute_input": "2024-10-29T02:23:20.832435Z",
     "iopub.status.busy": "2024-10-29T02:23:20.831597Z",
     "iopub.status.idle": "2024-10-29T02:23:21.250387Z",
     "shell.execute_reply": "2024-10-29T02:23:21.249465Z"
    },
    "papermill": {
     "duration": 0.448986,
     "end_time": "2024-10-29T02:23:21.252684",
     "exception": false,
     "start_time": "2024-10-29T02:23:20.803698",
     "status": "completed"
    },
    "tags": []
   },
   "outputs": [
    {
     "name": "stderr",
     "output_type": "stream",
     "text": [
      "/opt/conda/lib/python3.10/site-packages/torchvision/models/_utils.py:208: UserWarning: The parameter 'pretrained' is deprecated since 0.13 and may be removed in the future, please use 'weights' instead.\n",
      "  warnings.warn(\n",
      "/opt/conda/lib/python3.10/site-packages/torchvision/models/_utils.py:223: UserWarning: Arguments other than a weight enum or `None` for 'weights' are deprecated since 0.13 and may be removed in the future. The current behavior is equivalent to passing `weights=EfficientNet_B0_Weights.IMAGENET1K_V1`. You can also use `weights=EfficientNet_B0_Weights.DEFAULT` to get the most up-to-date weights.\n",
      "  warnings.warn(msg)\n",
      "Downloading: \"https://download.pytorch.org/models/efficientnet_b0_rwightman-7f5810bc.pth\" to /root/.cache/torch/hub/checkpoints/efficientnet_b0_rwightman-7f5810bc.pth\n",
      "100%|██████████| 20.5M/20.5M [00:00<00:00, 127MB/s] \n"
     ]
    }
   ],
   "source": [
    "# Load the EfficientNet-B0 model\n",
    "model_efficientnet = models.efficientnet_b0(pretrained=True)\n",
    "\n",
    "# Freeze the parameters\n",
    "for param in model_efficientnet.parameters():\n",
    "    param.requires_grad = False\n",
    "\n",
    "# Replace the classifier to match the number of classes\n",
    "model_efficientnet.classifier[1] = nn.Linear(model_efficientnet.classifier[1].in_features, num_classes)\n",
    "\n",
    "# Move the model to the device\n",
    "device = torch.device('cuda' if torch.cuda.is_available() else 'cpu')\n",
    "model_efficientnet = model_efficientnet.to(device)"
   ]
  },
  {
   "cell_type": "code",
   "execution_count": 36,
   "id": "56bc66f1",
   "metadata": {
    "execution": {
     "iopub.execute_input": "2024-10-29T02:23:21.312463Z",
     "iopub.status.busy": "2024-10-29T02:23:21.312098Z",
     "iopub.status.idle": "2024-10-29T02:23:21.322559Z",
     "shell.execute_reply": "2024-10-29T02:23:21.321653Z"
    },
    "papermill": {
     "duration": 0.041325,
     "end_time": "2024-10-29T02:23:21.324597",
     "exception": false,
     "start_time": "2024-10-29T02:23:21.283272",
     "status": "completed"
    },
    "tags": []
   },
   "outputs": [],
   "source": [
    "criterion = nn.CrossEntropyLoss()\n",
    "optimizer = optim.Adam(model_efficientnet.parameters(), lr=learning_rate)\n",
    "scheduler = CosineAnnealingLR(optimizer, T_max=num_epochs, eta_min=learning_rate * lr_ratio)\n",
    "checkpoint = {\"state_dict\": model_efficientnet.state_dict(), \"optimizer\": optimizer.state_dict(), \"scheduler\": scheduler}"
   ]
  },
  {
   "cell_type": "code",
   "execution_count": 37,
   "id": "f5c3cf4f",
   "metadata": {
    "execution": {
     "iopub.execute_input": "2024-10-29T02:23:21.381345Z",
     "iopub.status.busy": "2024-10-29T02:23:21.380656Z",
     "iopub.status.idle": "2024-10-29T03:03:14.555556Z",
     "shell.execute_reply": "2024-10-29T03:03:14.554700Z"
    },
    "papermill": {
     "duration": 2393.205478,
     "end_time": "2024-10-29T03:03:14.557669",
     "exception": false,
     "start_time": "2024-10-29T02:23:21.352191",
     "status": "completed"
    },
    "tags": []
   },
   "outputs": [
    {
     "name": "stdout",
     "output_type": "stream",
     "text": [
      "1. epoch\n",
      "Training accuracy: 0.5264115929603577 Training loss: 1.081363172693686 \n",
      "Validation accuracy: 0.6147701144218445 Validation loss: 0.934409745534261\n",
      "2. epoch\n",
      "Training accuracy: 0.6007190942764282 Training loss: 0.9313837167891589 \n",
      "Validation accuracy: 0.637493371963501 Validation loss: 0.864533801873525\n",
      "3. epoch\n",
      "Training accuracy: 0.6159890294075012 Training loss: 0.8845543952828104 \n",
      "Validation accuracy: 0.644416868686676 Validation loss: 0.8076350604494412\n",
      "4. epoch\n",
      "Training accuracy: 0.6299272179603577 Training loss: 0.852713801982728 \n",
      "Validation accuracy: 0.6525830030441284 Validation loss: 0.7922192639774747\n",
      "5. epoch\n",
      "Training accuracy: 0.6337003111839294 Training loss: 0.8379341814328324 \n",
      "Validation accuracy: 0.6568436026573181 Validation loss: 0.7696998231940799\n",
      "6. epoch\n",
      "Training accuracy: 0.6417791247367859 Training loss: 0.8242041299288924 \n",
      "Validation accuracy: 0.6591514348983765 Validation loss: 0.7605049514108234\n",
      "7. epoch\n",
      "Training accuracy: 0.640269935131073 Training loss: 0.8191508864137259 \n",
      "Validation accuracy: 0.6642996668815613 Validation loss: 0.7881722225083245\n",
      "8. epoch\n",
      "Training accuracy: 0.6444869041442871 Training loss: 0.8058437935330651 \n",
      "Validation accuracy: 0.6742411255836487 Validation loss: 0.7407593992021348\n",
      "9. epoch\n",
      "Training accuracy: 0.6526988744735718 Training loss: 0.7995293692431666 \n",
      "Validation accuracy: 0.6753062605857849 Validation loss: 0.7406287365489536\n",
      "10. epoch\n",
      "Training accuracy: 0.652476966381073 Training loss: 0.7954860986633734 \n",
      "Validation accuracy: 0.6772590279579163 Validation loss: 0.7343245877159966\n",
      "11. epoch\n",
      "Training accuracy: 0.6493697166442871 Training loss: 0.7902893749150363 \n",
      "Validation accuracy: 0.6774365305900574 Validation loss: 0.7151247640450795\n",
      "12. epoch\n",
      "Training accuracy: 0.6531427502632141 Training loss: 0.7832733104852113 \n",
      "Validation accuracy: 0.6797443628311157 Validation loss: 0.7092929227484597\n",
      "13. epoch\n",
      "Training accuracy: 0.6511896252632141 Training loss: 0.7826682518828999 \n",
      "Validation accuracy: 0.6808095574378967 Validation loss: 0.7478305803404914\n",
      "14. epoch\n",
      "Training accuracy: 0.6540305614471436 Training loss: 0.7822548733516173 \n",
      "Validation accuracy: 0.6859577894210815 Validation loss: 0.7359373900625441\n",
      "15. epoch\n",
      "Training accuracy: 0.6532315611839294 Training loss: 0.785204491154714 \n",
      "Validation accuracy: 0.6781466603279114 Validation loss: 0.7283308982849122\n"
     ]
    },
    {
     "data": {
      "image/png": "[encoded data removed]",
      "text/plain": [
       "<Figure size 1200x500 with 2 Axes>"
      ]
     },
     "metadata": {},
     "output_type": "display_data"
    }
   ],
   "source": [
    "model_eff = traindata(device, model_efficientnet, num_epochs, optimizer, scheduler, criterion, train_loader, valid_loader, \"effnet_checkpoint.pth.tar\")"
   ]
  },
  {
   "cell_type": "code",
   "execution_count": 38,
   "id": "467f16a7",
   "metadata": {
    "execution": {
     "iopub.execute_input": "2024-10-29T03:03:14.621335Z",
     "iopub.status.busy": "2024-10-29T03:03:14.620961Z",
     "iopub.status.idle": "2024-10-29T03:03:14.709002Z",
     "shell.execute_reply": "2024-10-29T03:03:14.707960Z"
    },
    "papermill": {
     "duration": 0.122354,
     "end_time": "2024-10-29T03:03:14.711195",
     "exception": false,
     "start_time": "2024-10-29T03:03:14.588841",
     "status": "completed"
    },
    "tags": []
   },
   "outputs": [
    {
     "name": "stdout",
     "output_type": "stream",
     "text": [
      "Loading checkpoint\n"
     ]
    },
    {
     "name": "stderr",
     "output_type": "stream",
     "text": [
      "/tmp/ipykernel_24/52900786.py:1: FutureWarning: You are using `torch.load` with `weights_only=False` (the current default value), which uses the default pickle module implicitly. It is possible to construct malicious pickle data which will execute arbitrary code during unpickling (See https://github.com/pytorch/pytorch/blob/main/SECURITY.md#untrusted-models for more details). In a future release, the default value for `weights_only` will be flipped to `True`. This limits the functions that could be executed during unpickling. Arbitrary objects will no longer be allowed to be loaded via this mode unless they are explicitly allowlisted by the user via `torch.serialization.add_safe_globals`. We recommend you start setting `weights_only=True` for any use case where you don't have full control of the loaded file. Please open an issue on GitHub for any issues related to this experimental feature.\n",
      "  load_checkpoint(torch.load(\"effnet_checkpoint.pth.tar\"), model_efficientnet, optimizer)\n"
     ]
    }
   ],
   "source": [
    "load_checkpoint(torch.load(\"effnet_checkpoint.pth.tar\"), model_efficientnet, optimizer)"
   ]
  },
  {
   "cell_type": "code",
   "execution_count": 39,
   "id": "1146aeea",
   "metadata": {
    "execution": {
     "iopub.execute_input": "2024-10-29T03:03:14.776059Z",
     "iopub.status.busy": "2024-10-29T03:03:14.775741Z",
     "iopub.status.idle": "2024-10-29T03:03:54.317212Z",
     "shell.execute_reply": "2024-10-29T03:03:54.316175Z"
    },
    "papermill": {
     "duration": 39.608008,
     "end_time": "2024-10-29T03:03:54.351370",
     "exception": false,
     "start_time": "2024-10-29T03:03:14.743362",
     "status": "completed"
    },
    "tags": []
   },
   "outputs": [
    {
     "data": {
      "text/html": [
       "<div>\n",
       "<style scoped>\n",
       "    .dataframe tbody tr th:only-of-type {\n",
       "        vertical-align: middle;\n",
       "    }\n",
       "\n",
       "    .dataframe tbody tr th {\n",
       "        vertical-align: top;\n",
       "    }\n",
       "\n",
       "    .dataframe thead th {\n",
       "        text-align: right;\n",
       "    }\n",
       "</style>\n",
       "<table border=\"1\" class=\"dataframe\">\n",
       "  <thead>\n",
       "    <tr style=\"text-align: right;\">\n",
       "      <th></th>\n",
       "      <th>NonDemented</th>\n",
       "      <th>VeryMildDemented</th>\n",
       "      <th>ModerateDemented</th>\n",
       "      <th>MildDemented</th>\n",
       "      <th>label</th>\n",
       "    </tr>\n",
       "  </thead>\n",
       "  <tbody>\n",
       "    <tr>\n",
       "      <th>0</th>\n",
       "      <td>0.338614</td>\n",
       "      <td>0.380192</td>\n",
       "      <td>0.069547</td>\n",
       "      <td>0.211648</td>\n",
       "      <td>MildDemented</td>\n",
       "    </tr>\n",
       "    <tr>\n",
       "      <th>1</th>\n",
       "      <td>0.309467</td>\n",
       "      <td>0.640448</td>\n",
       "      <td>0.000106</td>\n",
       "      <td>0.049979</td>\n",
       "      <td>MildDemented</td>\n",
       "    </tr>\n",
       "    <tr>\n",
       "      <th>2</th>\n",
       "      <td>0.232600</td>\n",
       "      <td>0.368637</td>\n",
       "      <td>0.127384</td>\n",
       "      <td>0.271379</td>\n",
       "      <td>MildDemented</td>\n",
       "    </tr>\n",
       "    <tr>\n",
       "      <th>3</th>\n",
       "      <td>0.262464</td>\n",
       "      <td>0.390683</td>\n",
       "      <td>0.074320</td>\n",
       "      <td>0.272534</td>\n",
       "      <td>MildDemented</td>\n",
       "    </tr>\n",
       "    <tr>\n",
       "      <th>4</th>\n",
       "      <td>0.187250</td>\n",
       "      <td>0.348612</td>\n",
       "      <td>0.003545</td>\n",
       "      <td>0.460593</td>\n",
       "      <td>MildDemented</td>\n",
       "    </tr>\n",
       "    <tr>\n",
       "      <th>...</th>\n",
       "      <td>...</td>\n",
       "      <td>...</td>\n",
       "      <td>...</td>\n",
       "      <td>...</td>\n",
       "      <td>...</td>\n",
       "    </tr>\n",
       "    <tr>\n",
       "      <th>7036</th>\n",
       "      <td>0.364146</td>\n",
       "      <td>0.530306</td>\n",
       "      <td>0.040592</td>\n",
       "      <td>0.064956</td>\n",
       "      <td>VeryMildDemented</td>\n",
       "    </tr>\n",
       "    <tr>\n",
       "      <th>7037</th>\n",
       "      <td>0.522046</td>\n",
       "      <td>0.349964</td>\n",
       "      <td>0.003077</td>\n",
       "      <td>0.124913</td>\n",
       "      <td>VeryMildDemented</td>\n",
       "    </tr>\n",
       "    <tr>\n",
       "      <th>7038</th>\n",
       "      <td>0.472159</td>\n",
       "      <td>0.483042</td>\n",
       "      <td>0.011327</td>\n",
       "      <td>0.033472</td>\n",
       "      <td>VeryMildDemented</td>\n",
       "    </tr>\n",
       "    <tr>\n",
       "      <th>7039</th>\n",
       "      <td>0.102125</td>\n",
       "      <td>0.606126</td>\n",
       "      <td>0.004921</td>\n",
       "      <td>0.286829</td>\n",
       "      <td>VeryMildDemented</td>\n",
       "    </tr>\n",
       "    <tr>\n",
       "      <th>7040</th>\n",
       "      <td>0.484284</td>\n",
       "      <td>0.425316</td>\n",
       "      <td>0.033958</td>\n",
       "      <td>0.056442</td>\n",
       "      <td>VeryMildDemented</td>\n",
       "    </tr>\n",
       "  </tbody>\n",
       "</table>\n",
       "<p>7041 rows × 5 columns</p>\n",
       "</div>"
      ],
      "text/plain": [
       "      NonDemented  VeryMildDemented  ModerateDemented  MildDemented  \\\n",
       "0        0.338614          0.380192          0.069547      0.211648   \n",
       "1        0.309467          0.640448          0.000106      0.049979   \n",
       "2        0.232600          0.368637          0.127384      0.271379   \n",
       "3        0.262464          0.390683          0.074320      0.272534   \n",
       "4        0.187250          0.348612          0.003545      0.460593   \n",
       "...           ...               ...               ...           ...   \n",
       "7036     0.364146          0.530306          0.040592      0.064956   \n",
       "7037     0.522046          0.349964          0.003077      0.124913   \n",
       "7038     0.472159          0.483042          0.011327      0.033472   \n",
       "7039     0.102125          0.606126          0.004921      0.286829   \n",
       "7040     0.484284          0.425316          0.033958      0.056442   \n",
       "\n",
       "                 label  \n",
       "0         MildDemented  \n",
       "1         MildDemented  \n",
       "2         MildDemented  \n",
       "3         MildDemented  \n",
       "4         MildDemented  \n",
       "...                ...  \n",
       "7036  VeryMildDemented  \n",
       "7037  VeryMildDemented  \n",
       "7038  VeryMildDemented  \n",
       "7039  VeryMildDemented  \n",
       "7040  VeryMildDemented  \n",
       "\n",
       "[7041 rows x 5 columns]"
      ]
     },
     "execution_count": 39,
     "metadata": {},
     "output_type": "execute_result"
    }
   ],
   "source": [
    "df = test(device, model_eff, test_loader, criterion)\n",
    "df=pd.concat([df, test_labels[\"label\"]], axis=1)\n",
    "df.to_csv('efficientnet.csv', index=False)\n",
    "df"
   ]
  },
  {
   "cell_type": "markdown",
   "id": "a146131e",
   "metadata": {
    "papermill": {
     "duration": 0.030701,
     "end_time": "2024-10-29T03:03:54.412924",
     "exception": false,
     "start_time": "2024-10-29T03:03:54.382223",
     "status": "completed"
    },
    "tags": []
   },
   "source": [
    "# MobileNetV2"
   ]
  },
  {
   "cell_type": "code",
   "execution_count": 40,
   "id": "ec38bb31",
   "metadata": {
    "execution": {
     "iopub.execute_input": "2024-10-29T03:03:54.476999Z",
     "iopub.status.busy": "2024-10-29T03:03:54.476650Z",
     "iopub.status.idle": "2024-10-29T03:03:54.801132Z",
     "shell.execute_reply": "2024-10-29T03:03:54.800025Z"
    },
    "papermill": {
     "duration": 0.358754,
     "end_time": "2024-10-29T03:03:54.803500",
     "exception": false,
     "start_time": "2024-10-29T03:03:54.444746",
     "status": "completed"
    },
    "tags": []
   },
   "outputs": [
    {
     "name": "stderr",
     "output_type": "stream",
     "text": [
      "/opt/conda/lib/python3.10/site-packages/torchvision/models/_utils.py:208: UserWarning: The parameter 'pretrained' is deprecated since 0.13 and may be removed in the future, please use 'weights' instead.\n",
      "  warnings.warn(\n",
      "/opt/conda/lib/python3.10/site-packages/torchvision/models/_utils.py:223: UserWarning: Arguments other than a weight enum or `None` for 'weights' are deprecated since 0.13 and may be removed in the future. The current behavior is equivalent to passing `weights=MobileNet_V2_Weights.IMAGENET1K_V1`. You can also use `weights=MobileNet_V2_Weights.DEFAULT` to get the most up-to-date weights.\n",
      "  warnings.warn(msg)\n",
      "Downloading: \"https://download.pytorch.org/models/mobilenet_v2-b0353104.pth\" to /root/.cache/torch/hub/checkpoints/mobilenet_v2-b0353104.pth\n",
      "100%|██████████| 13.6M/13.6M [00:00<00:00, 108MB/s] \n"
     ]
    }
   ],
   "source": [
    "# Load the MobileNetV2 model\n",
    "model_mobilenet = models.mobilenet_v2(pretrained=True)\n",
    "\n",
    "# Freeze the parameters\n",
    "for param in model_mobilenet.parameters():\n",
    "    param.requires_grad = False\n",
    "\n",
    "# Replace the classifier to match the number of classes\n",
    "model_mobilenet.classifier[1] = nn.Linear(model_mobilenet.last_channel, num_classes)\n",
    "\n",
    "# Move the model to the device\n",
    "device = torch.device('cuda' if torch.cuda.is_available() else 'cpu')\n",
    "model_mobilenet = model_mobilenet.to(device)"
   ]
  },
  {
   "cell_type": "code",
   "execution_count": 41,
   "id": "be89f07d",
   "metadata": {
    "execution": {
     "iopub.execute_input": "2024-10-29T03:03:54.870232Z",
     "iopub.status.busy": "2024-10-29T03:03:54.869906Z",
     "iopub.status.idle": "2024-10-29T03:03:54.879041Z",
     "shell.execute_reply": "2024-10-29T03:03:54.878295Z"
    },
    "papermill": {
     "duration": 0.043669,
     "end_time": "2024-10-29T03:03:54.880950",
     "exception": false,
     "start_time": "2024-10-29T03:03:54.837281",
     "status": "completed"
    },
    "tags": []
   },
   "outputs": [],
   "source": [
    "criterion = nn.CrossEntropyLoss()\n",
    "optimizer = optim.Adam(model_mobilenet.parameters(), lr=learning_rate)\n",
    "scheduler = CosineAnnealingLR(optimizer, T_max=num_epochs, eta_min=learning_rate * lr_ratio)\n",
    "checkpoint = {\"state_dict\": model_mobilenet.state_dict(), \"optimizer\": optimizer.state_dict(), \"scheduler\": scheduler}"
   ]
  },
  {
   "cell_type": "code",
   "execution_count": 42,
   "id": "49b6e49b",
   "metadata": {
    "execution": {
     "iopub.execute_input": "2024-10-29T03:03:54.946124Z",
     "iopub.status.busy": "2024-10-29T03:03:54.945574Z",
     "iopub.status.idle": "2024-10-29T03:43:06.966667Z",
     "shell.execute_reply": "2024-10-29T03:43:06.965878Z"
    },
    "papermill": {
     "duration": 2352.055573,
     "end_time": "2024-10-29T03:43:06.968807",
     "exception": false,
     "start_time": "2024-10-29T03:03:54.913234",
     "status": "completed"
    },
    "tags": []
   },
   "outputs": [
    {
     "name": "stdout",
     "output_type": "stream",
     "text": [
      "1. epoch\n",
      "Training accuracy: 0.5296964049339294 Training loss: 1.0599707375195893 \n",
      "Validation accuracy: 0.6073140501976013 Validation loss: 0.9353535665406121\n",
      "2. epoch\n",
      "Training accuracy: 0.6174538731575012 Training loss: 0.8922407362948764 \n",
      "Validation accuracy: 0.644416868686676 Validation loss: 0.8424308882819281\n",
      "3. epoch\n",
      "Training accuracy: 0.6357865929603577 Training loss: 0.8428775803609327 \n",
      "Validation accuracy: 0.6591514348983765 Validation loss: 0.8090807729297214\n",
      "4. epoch\n",
      "Training accuracy: 0.6459517478942871 Training loss: 0.8141739046709104 \n",
      "Validation accuracy: 0.6644772291183472 Validation loss: 0.7749673869874742\n",
      "5. epoch\n",
      "Training accuracy: 0.6546964049339294 Training loss: 0.7974847030233253 \n",
      "Validation accuracy: 0.6600390672683716 Validation loss: 0.786230190594991\n",
      "6. epoch\n",
      "Training accuracy: 0.6584694981575012 Training loss: 0.7827989306639541 \n",
      "Validation accuracy: 0.6726433634757996 Validation loss: 0.744939982228809\n",
      "7. epoch\n",
      "Training accuracy: 0.6644620299339294 Training loss: 0.7706487768075683 \n",
      "Validation accuracy: 0.6708680987358093 Validation loss: 0.7436685694588555\n",
      "8. epoch\n",
      "Training accuracy: 0.6667258739471436 Training loss: 0.764899916946888 \n",
      "Validation accuracy: 0.6737085580825806 Validation loss: 0.7325978875160217\n",
      "9. epoch\n",
      "Training accuracy: 0.6693892478942871 Training loss: 0.7548840469257398 \n",
      "Validation accuracy: 0.6827623248100281 Validation loss: 0.7213766164249844\n",
      "10. epoch\n",
      "Training accuracy: 0.6726296544075012 Training loss: 0.749891691587188 \n",
      "Validation accuracy: 0.6799219250679016 Validation loss: 0.7231610788239373\n",
      "11. epoch\n",
      "Training accuracy: 0.6732066869735718 Training loss: 0.7481494159861044 \n",
      "Validation accuracy: 0.6870229244232178 Validation loss: 0.7056047211090724\n",
      "12. epoch\n",
      "Training accuracy: 0.6732954978942871 Training loss: 0.7438831424171274 \n",
      "Validation accuracy: 0.6866678595542908 Validation loss: 0.7057123576601346\n",
      "13. epoch\n",
      "Training accuracy: 0.6778231859207153 Training loss: 0.7351736551658674 \n",
      "Validation accuracy: 0.6857802271842957 Validation loss: 0.7071975310643513\n",
      "14. epoch\n",
      "Training accuracy: 0.6740944981575012 Training loss: 0.7390522946688262 \n",
      "Validation accuracy: 0.6863128542900085 Validation loss: 0.701280783282386\n",
      "15. epoch\n",
      "Training accuracy: 0.6677468419075012 Training loss: 0.7442786534401503 \n",
      "Validation accuracy: 0.6843600273132324 Validation loss: 0.7157421575652229\n"
     ]
    },
    {
     "data": {
      "image/png": "[encoded data removed]",
      "text/plain": [
       "<Figure size 1200x500 with 2 Axes>"
      ]
     },
     "metadata": {},
     "output_type": "display_data"
    }
   ],
   "source": [
    "model_mob = traindata(device, model_mobilenet, num_epochs, optimizer, scheduler, criterion, train_loader, valid_loader, \"mobnet_checkpoint.pth.tar\")"
   ]
  },
  {
   "cell_type": "code",
   "execution_count": 43,
   "id": "b2d86fa0",
   "metadata": {
    "execution": {
     "iopub.execute_input": "2024-10-29T03:43:07.040052Z",
     "iopub.status.busy": "2024-10-29T03:43:07.039717Z",
     "iopub.status.idle": "2024-10-29T03:43:07.110081Z",
     "shell.execute_reply": "2024-10-29T03:43:07.109102Z"
    },
    "papermill": {
     "duration": 0.108604,
     "end_time": "2024-10-29T03:43:07.112386",
     "exception": false,
     "start_time": "2024-10-29T03:43:07.003782",
     "status": "completed"
    },
    "tags": []
   },
   "outputs": [
    {
     "name": "stdout",
     "output_type": "stream",
     "text": [
      "Loading checkpoint\n"
     ]
    },
    {
     "name": "stderr",
     "output_type": "stream",
     "text": [
      "/tmp/ipykernel_24/2580840668.py:1: FutureWarning: You are using `torch.load` with `weights_only=False` (the current default value), which uses the default pickle module implicitly. It is possible to construct malicious pickle data which will execute arbitrary code during unpickling (See https://github.com/pytorch/pytorch/blob/main/SECURITY.md#untrusted-models for more details). In a future release, the default value for `weights_only` will be flipped to `True`. This limits the functions that could be executed during unpickling. Arbitrary objects will no longer be allowed to be loaded via this mode unless they are explicitly allowlisted by the user via `torch.serialization.add_safe_globals`. We recommend you start setting `weights_only=True` for any use case where you don't have full control of the loaded file. Please open an issue on GitHub for any issues related to this experimental feature.\n",
      "  load_checkpoint(torch.load(\"mobnet_checkpoint.pth.tar\"), model_mobilenet, optimizer)\n"
     ]
    }
   ],
   "source": [
    "load_checkpoint(torch.load(\"mobnet_checkpoint.pth.tar\"), model_mobilenet, optimizer)"
   ]
  },
  {
   "cell_type": "code",
   "execution_count": 44,
   "id": "9d7ecf6f",
   "metadata": {
    "execution": {
     "iopub.execute_input": "2024-10-29T03:43:07.183989Z",
     "iopub.status.busy": "2024-10-29T03:43:07.183626Z",
     "iopub.status.idle": "2024-10-29T03:43:50.778910Z",
     "shell.execute_reply": "2024-10-29T03:43:50.777886Z"
    },
    "papermill": {
     "duration": 43.669784,
     "end_time": "2024-10-29T03:43:50.817489",
     "exception": false,
     "start_time": "2024-10-29T03:43:07.147705",
     "status": "completed"
    },
    "tags": []
   },
   "outputs": [
    {
     "data": {
      "text/html": [
       "<div>\n",
       "<style scoped>\n",
       "    .dataframe tbody tr th:only-of-type {\n",
       "        vertical-align: middle;\n",
       "    }\n",
       "\n",
       "    .dataframe tbody tr th {\n",
       "        vertical-align: top;\n",
       "    }\n",
       "\n",
       "    .dataframe thead th {\n",
       "        text-align: right;\n",
       "    }\n",
       "</style>\n",
       "<table border=\"1\" class=\"dataframe\">\n",
       "  <thead>\n",
       "    <tr style=\"text-align: right;\">\n",
       "      <th></th>\n",
       "      <th>NonDemented</th>\n",
       "      <th>VeryMildDemented</th>\n",
       "      <th>ModerateDemented</th>\n",
       "      <th>MildDemented</th>\n",
       "      <th>label</th>\n",
       "    </tr>\n",
       "  </thead>\n",
       "  <tbody>\n",
       "    <tr>\n",
       "      <th>0</th>\n",
       "      <td>0.356758</td>\n",
       "      <td>0.325738</td>\n",
       "      <td>0.000725</td>\n",
       "      <td>0.316780</td>\n",
       "      <td>MildDemented</td>\n",
       "    </tr>\n",
       "    <tr>\n",
       "      <th>1</th>\n",
       "      <td>0.126674</td>\n",
       "      <td>0.744699</td>\n",
       "      <td>0.069931</td>\n",
       "      <td>0.058697</td>\n",
       "      <td>MildDemented</td>\n",
       "    </tr>\n",
       "    <tr>\n",
       "      <th>2</th>\n",
       "      <td>0.436396</td>\n",
       "      <td>0.410634</td>\n",
       "      <td>0.062626</td>\n",
       "      <td>0.090343</td>\n",
       "      <td>MildDemented</td>\n",
       "    </tr>\n",
       "    <tr>\n",
       "      <th>3</th>\n",
       "      <td>0.075351</td>\n",
       "      <td>0.269445</td>\n",
       "      <td>0.363466</td>\n",
       "      <td>0.291738</td>\n",
       "      <td>MildDemented</td>\n",
       "    </tr>\n",
       "    <tr>\n",
       "      <th>4</th>\n",
       "      <td>0.112401</td>\n",
       "      <td>0.291813</td>\n",
       "      <td>0.039743</td>\n",
       "      <td>0.556044</td>\n",
       "      <td>MildDemented</td>\n",
       "    </tr>\n",
       "    <tr>\n",
       "      <th>...</th>\n",
       "      <td>...</td>\n",
       "      <td>...</td>\n",
       "      <td>...</td>\n",
       "      <td>...</td>\n",
       "      <td>...</td>\n",
       "    </tr>\n",
       "    <tr>\n",
       "      <th>7036</th>\n",
       "      <td>0.745461</td>\n",
       "      <td>0.241308</td>\n",
       "      <td>0.000471</td>\n",
       "      <td>0.012761</td>\n",
       "      <td>VeryMildDemented</td>\n",
       "    </tr>\n",
       "    <tr>\n",
       "      <th>7037</th>\n",
       "      <td>0.507350</td>\n",
       "      <td>0.327903</td>\n",
       "      <td>0.019023</td>\n",
       "      <td>0.145724</td>\n",
       "      <td>VeryMildDemented</td>\n",
       "    </tr>\n",
       "    <tr>\n",
       "      <th>7038</th>\n",
       "      <td>0.206130</td>\n",
       "      <td>0.465527</td>\n",
       "      <td>0.064277</td>\n",
       "      <td>0.264066</td>\n",
       "      <td>VeryMildDemented</td>\n",
       "    </tr>\n",
       "    <tr>\n",
       "      <th>7039</th>\n",
       "      <td>0.075481</td>\n",
       "      <td>0.714264</td>\n",
       "      <td>0.013834</td>\n",
       "      <td>0.196422</td>\n",
       "      <td>VeryMildDemented</td>\n",
       "    </tr>\n",
       "    <tr>\n",
       "      <th>7040</th>\n",
       "      <td>0.605845</td>\n",
       "      <td>0.356669</td>\n",
       "      <td>0.000732</td>\n",
       "      <td>0.036754</td>\n",
       "      <td>VeryMildDemented</td>\n",
       "    </tr>\n",
       "  </tbody>\n",
       "</table>\n",
       "<p>7041 rows × 5 columns</p>\n",
       "</div>"
      ],
      "text/plain": [
       "      NonDemented  VeryMildDemented  ModerateDemented  MildDemented  \\\n",
       "0        0.356758          0.325738          0.000725      0.316780   \n",
       "1        0.126674          0.744699          0.069931      0.058697   \n",
       "2        0.436396          0.410634          0.062626      0.090343   \n",
       "3        0.075351          0.269445          0.363466      0.291738   \n",
       "4        0.112401          0.291813          0.039743      0.556044   \n",
       "...           ...               ...               ...           ...   \n",
       "7036     0.745461          0.241308          0.000471      0.012761   \n",
       "7037     0.507350          0.327903          0.019023      0.145724   \n",
       "7038     0.206130          0.465527          0.064277      0.264066   \n",
       "7039     0.075481          0.714264          0.013834      0.196422   \n",
       "7040     0.605845          0.356669          0.000732      0.036754   \n",
       "\n",
       "                 label  \n",
       "0         MildDemented  \n",
       "1         MildDemented  \n",
       "2         MildDemented  \n",
       "3         MildDemented  \n",
       "4         MildDemented  \n",
       "...                ...  \n",
       "7036  VeryMildDemented  \n",
       "7037  VeryMildDemented  \n",
       "7038  VeryMildDemented  \n",
       "7039  VeryMildDemented  \n",
       "7040  VeryMildDemented  \n",
       "\n",
       "[7041 rows x 5 columns]"
      ]
     },
     "execution_count": 44,
     "metadata": {},
     "output_type": "execute_result"
    }
   ],
   "source": [
    "df = test(device, model_mob, test_loader, criterion)\n",
    "df=pd.concat([df, test_labels[\"label\"]], axis=1)\n",
    "df.to_csv('mobilenet.csv', index=False)\n",
    "df"
   ]
  },
  {
   "cell_type": "markdown",
   "id": "b13e064e",
   "metadata": {
    "papermill": {
     "duration": 0.035042,
     "end_time": "2024-10-29T03:43:50.887668",
     "exception": false,
     "start_time": "2024-10-29T03:43:50.852626",
     "status": "completed"
    },
    "tags": []
   },
   "source": [
    "# Evaluation"
   ]
  },
  {
   "cell_type": "code",
   "execution_count": 45,
   "id": "b77aa690",
   "metadata": {
    "execution": {
     "iopub.execute_input": "2024-10-29T03:43:50.959217Z",
     "iopub.status.busy": "2024-10-29T03:43:50.958474Z",
     "iopub.status.idle": "2024-10-29T03:43:50.991173Z",
     "shell.execute_reply": "2024-10-29T03:43:50.990459Z"
    },
    "papermill": {
     "duration": 0.070522,
     "end_time": "2024-10-29T03:43:50.993123",
     "exception": false,
     "start_time": "2024-10-29T03:43:50.922601",
     "status": "completed"
    },
    "tags": []
   },
   "outputs": [],
   "source": [
    "resnet50=pd.read_csv(\"/kaggle/working/resnet50.csv\")\n",
    "effnet=pd.read_csv(\"/kaggle/working/efficientnet.csv\")\n",
    "mobnet=pd.read_csv(\"/kaggle/working/mobilenet.csv\")\n",
    "vgg=pd.read_csv(\"/kaggle/working/vgg16.csv\")"
   ]
  },
  {
   "cell_type": "code",
   "execution_count": 46,
   "id": "021e2d11",
   "metadata": {
    "execution": {
     "iopub.execute_input": "2024-10-29T03:43:51.064074Z",
     "iopub.status.busy": "2024-10-29T03:43:51.063784Z",
     "iopub.status.idle": "2024-10-29T03:43:51.070466Z",
     "shell.execute_reply": "2024-10-29T03:43:51.069572Z"
    },
    "papermill": {
     "duration": 0.044498,
     "end_time": "2024-10-29T03:43:51.072465",
     "exception": false,
     "start_time": "2024-10-29T03:43:51.027967",
     "status": "completed"
    },
    "tags": []
   },
   "outputs": [],
   "source": [
    "def top_p_percent_acc(data, p):\n",
    "    cat_num=len(list(data.columns))-1  #number of categories = number of columns - 2 (number of picture, true_label)\n",
    "    test_size=len(list(data.index)) #number of validation data points\n",
    "    p_percent=int(p/100*cat_num) #p percent of the validation size\n",
    "    acc=0\n",
    "    for row,i in data.iterrows():\n",
    "        best_p_indices=np.array(i[:len(i)-1]).argsort()[-p_percent:][::-1]  #the p% largest probabilities\n",
    "        best_p_columns=[data.columns[j] for j in best_p_indices]  #the corresponding classes\n",
    "        true_label=str(i[\"label\"]) #str(train.loc[i[\"picture\"],\"landmark_id\"])  #the true class of the data point\n",
    "        if true_label in best_p_columns:\n",
    "            acc+=1\n",
    "    acc=acc/test_size\n",
    "    return acc"
   ]
  },
  {
   "cell_type": "code",
   "execution_count": 47,
   "id": "b1090d35",
   "metadata": {
    "execution": {
     "iopub.execute_input": "2024-10-29T03:43:51.143595Z",
     "iopub.status.busy": "2024-10-29T03:43:51.143276Z",
     "iopub.status.idle": "2024-10-29T03:43:51.149168Z",
     "shell.execute_reply": "2024-10-29T03:43:51.148375Z"
    },
    "papermill": {
     "duration": 0.043718,
     "end_time": "2024-10-29T03:43:51.151013",
     "exception": false,
     "start_time": "2024-10-29T03:43:51.107295",
     "status": "completed"
    },
    "tags": []
   },
   "outputs": [],
   "source": [
    "def top_p_percent_plot(data, P_list):\n",
    "    cat_num=len(list(data.columns))-1  #number of categories = number of columns - 2 (number of picture, true_label)\n",
    "    test_size=len(list(data.index)) #number of validation data points\n",
    "\n",
    "    values=[]\n",
    "    for p in P_list:\n",
    "        acc=top_p_percent_acc(data, p)\n",
    "        values.append(acc)\n",
    "\n",
    "    plt.plot(P_list, values, color=\"green\")\n",
    "    plt.title('P-percent accuracies')\n",
    "    plt.xlabel('P values')\n",
    "    plt.ylabel('P-Accuracy')\n",
    "    #plt.ylim([-0.05, 1.05])\n",
    "\n",
    "    plt.show()"
   ]
  },
  {
   "cell_type": "code",
   "execution_count": 48,
   "id": "8ba127c8",
   "metadata": {
    "execution": {
     "iopub.execute_input": "2024-10-29T03:43:51.222481Z",
     "iopub.status.busy": "2024-10-29T03:43:51.222161Z",
     "iopub.status.idle": "2024-10-29T03:43:51.229048Z",
     "shell.execute_reply": "2024-10-29T03:43:51.228267Z"
    },
    "papermill": {
     "duration": 0.044969,
     "end_time": "2024-10-29T03:43:51.230847",
     "exception": false,
     "start_time": "2024-10-29T03:43:51.185878",
     "status": "completed"
    },
    "tags": []
   },
   "outputs": [],
   "source": [
    "def multiple_data_ppercent(l):\n",
    "    cat_num=len(list(l[0][0].columns))-1 \n",
    "    test_size=len(list(l[0][0].index))\n",
    "    for i in l:\n",
    "        data, P_list, name = i\n",
    "        values=[]\n",
    "        for p in P_list:\n",
    "            acc=top_p_percent_acc(data, p)\n",
    "            values.append(acc)\n",
    "        plt.plot(P_list, values, label=name)\n",
    "    plt.title('P-percent accuracies')\n",
    "    plt.xlabel('P values')\n",
    "    plt.ylabel('P-Accuracy')\n",
    "    plt.grid(True)\n",
    "    plt.legend()\n",
    "    plt.show()"
   ]
  },
  {
   "cell_type": "code",
   "execution_count": 49,
   "id": "86f5b86e",
   "metadata": {
    "execution": {
     "iopub.execute_input": "2024-10-29T03:43:51.301877Z",
     "iopub.status.busy": "2024-10-29T03:43:51.301602Z",
     "iopub.status.idle": "2024-10-29T03:43:51.311288Z",
     "shell.execute_reply": "2024-10-29T03:43:51.310584Z"
    },
    "papermill": {
     "duration": 0.047441,
     "end_time": "2024-10-29T03:43:51.313158",
     "exception": false,
     "start_time": "2024-10-29T03:43:51.265717",
     "status": "completed"
    },
    "tags": []
   },
   "outputs": [],
   "source": [
    "def acc_class_size(data, title):  #we would like to investigate if the the accuracy and the size of the class are correlated\n",
    "    accuracies=[] #this list will contain the accuracies of the classes\n",
    "    sizes=[]\n",
    "    #for class_num in data.columns[:len(data.columns)-2]:\n",
    "        #accuracies=[] #this list will contain the accuracies of the classes\n",
    "    for class_name in data.columns[:len(data.columns)-1]:\n",
    "        class_data=data[data[\"label\"]==str(class_name)] #validation data points from this class\n",
    "        acc=top_p_percent_acc(class_data, 2)    #accuracy of the validation data from this class\n",
    "        accuracies.append(acc)\n",
    "        #class_data=data[data[\"original_class\"]==float(class_num)]  #validation data points from this class\n",
    "        #acc=top_p_percent_acc(class_data, 2)    #accuracy of the validation data from this class\n",
    "        #accuracies.append(acc)\n",
    "        #class_size=train_labels[train_labels[\"breed\"]==class_name][\"label_count\"].values[0] #size of the class\n",
    "        class_size=labels[labels[\"label\"]==class_name][\"id\"].values[0]\n",
    "        sizes.append(class_size)\n",
    "    order=np.array(accuracies).argsort() #order the two list according to the accuracies\n",
    "    accuracies=[accuracies[i] for i in order]\n",
    "    sizes=[sizes[i] for i in order]\n",
    "    sizes=[(sizes[i]-min(sizes))/(max(sizes)-min(sizes)) for i in range(len(sizes))] #normalize the sizes into [0, 1]\n",
    "    corr=round(np.corrcoef(accuracies, sizes)[0, 1],4)\n",
    "    label=\"corr=\"+str(corr)\n",
    "    plt.scatter(accuracies, sizes, label=label)\n",
    "    plt.title(title)\n",
    "    plt.ylabel(\"Size of the class\")\n",
    "    plt.xlabel(\"Accuracy of the class\")\n",
    "    plt.legend()\n",
    "    plt.show()"
   ]
  },
  {
   "cell_type": "code",
   "execution_count": 50,
   "id": "ef95578f",
   "metadata": {
    "execution": {
     "iopub.execute_input": "2024-10-29T03:43:51.384469Z",
     "iopub.status.busy": "2024-10-29T03:43:51.383982Z",
     "iopub.status.idle": "2024-10-29T03:44:05.625211Z",
     "shell.execute_reply": "2024-10-29T03:44:05.624309Z"
    },
    "papermill": {
     "duration": 14.27925,
     "end_time": "2024-10-29T03:44:05.627348",
     "exception": false,
     "start_time": "2024-10-29T03:43:51.348098",
     "status": "completed"
    },
    "tags": []
   },
   "outputs": [
    {
     "data": {
      "image/png": "[encoded data removed]",
      "text/plain": [
       "<Figure size 640x480 with 1 Axes>"
      ]
     },
     "metadata": {},
     "output_type": "display_data"
    }
   ],
   "source": [
    "p=[25, 50, 75, 100]\n",
    "multiple_data_ppercent([[resnet50, p, \"resnet50\"], [vgg, p, \"vgg16\"], [effnet, p, \"effnet\"], [mobnet, p, \"mobnet\"]])"
   ]
  },
  {
   "cell_type": "code",
   "execution_count": null,
   "id": "abd431d6",
   "metadata": {
    "papermill": {
     "duration": 0.035937,
     "end_time": "2024-10-29T03:44:05.700131",
     "exception": false,
     "start_time": "2024-10-29T03:44:05.664194",
     "status": "completed"
    },
    "tags": []
   },
   "outputs": [],
   "source": []
  },
  {
   "cell_type": "code",
   "execution_count": null,
   "id": "0bd40f36",
   "metadata": {
    "papermill": {
     "duration": 0.035646,
     "end_time": "2024-10-29T03:44:05.771640",
     "exception": false,
     "start_time": "2024-10-29T03:44:05.735994",
     "status": "completed"
    },
    "tags": []
   },
   "outputs": [],
   "source": []
  }
 ],
 "metadata": {
  "kaggle": {
   "accelerator": "nvidiaTeslaT4",
   "dataSources": [
    {
     "datasetId": 3810485,
     "sourceId": 6767358,
     "sourceType": "datasetVersion"
    },
    {
     "datasetId": 5967324,
     "sourceId": 9747350,
     "sourceType": "datasetVersion"
    }
   ],
   "dockerImageVersionId": 30786,
   "isGpuEnabled": true,
   "isInternetEnabled": true,
   "language": "python",
   "sourceType": "notebook"
  },
  "kernelspec": {
   "display_name": "Python 3",
   "language": "python",
   "name": "python3"
  },
  "language_info": {
   "codemirror_mode": {
    "name": "ipython",
    "version": 3
   },
   "file_extension": ".py",
   "mimetype": "text/x-python",
   "name": "python",
   "nbconvert_exporter": "python",
   "pygments_lexer": "ipython3",
   "version": "3.10.14"
  },
  "papermill": {
   "default_parameters": {},
   "duration": 12131.453237,
   "end_time": "2024-10-29T03:44:08.522133",
   "environment_variables": {},
   "exception": null,
   "input_path": "__notebook__.ipynb",
   "output_path": "__notebook__.ipynb",
   "parameters": {},
   "start_time": "2024-10-29T00:21:57.068896",
   "version": "2.6.0"
  }
 },
 "nbformat": 4,
 "nbformat_minor": 5
}
